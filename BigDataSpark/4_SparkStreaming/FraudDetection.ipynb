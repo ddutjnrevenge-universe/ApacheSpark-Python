{
 "cells": [
  {
   "cell_type": "code",
   "execution_count": 1,
   "metadata": {},
   "outputs": [],
   "source": [
    "import findspark\n",
    "findspark.init()"
   ]
  },
  {
   "cell_type": "code",
   "execution_count": 4,
   "metadata": {},
   "outputs": [],
   "source": [
    "from pyspark.sql import SparkSession\n",
    "import pyspark.sql.functions as F\n",
    "import pyspark.sql.types as T\n",
    "\n",
    "spark = SparkSession.builder.appName(\"FraudDetection\").getOrCreate()"
   ]
  },
  {
   "cell_type": "code",
   "execution_count": 8,
   "metadata": {},
   "outputs": [],
   "source": [
    "df = spark.read.csv(r\"F:\\Data_Engineering\\Apache_Spark\\data\\fraud_detection.csv\", \n",
    "                    header=True, \n",
    "                    inferSchema=True)"
   ]
  },
  {
   "cell_type": "code",
   "execution_count": 9,
   "metadata": {},
   "outputs": [
    {
     "data": {
      "text/plain": [
       "['step',\n",
       " 'type',\n",
       " 'amount',\n",
       " 'nameOrig',\n",
       " 'oldbalanceOrg',\n",
       " 'newbalanceOrig',\n",
       " 'nameDest',\n",
       " 'oldbalanceDest',\n",
       " 'newbalanceDest',\n",
       " 'isFraud',\n",
       " 'isFlaggedFraud']"
      ]
     },
     "execution_count": 9,
     "metadata": {},
     "output_type": "execute_result"
    }
   ],
   "source": [
    "df.columns"
   ]
  },
  {
   "cell_type": "code",
   "execution_count": 10,
   "metadata": {},
   "outputs": [],
   "source": [
    "df = df.drop(\"isFraud\", \"isFlaggedFraud\")"
   ]
  },
  {
   "cell_type": "code",
   "execution_count": 11,
   "metadata": {},
   "outputs": [
    {
     "name": "stdout",
     "output_type": "stream",
     "text": [
      "+----+--------+--------+-----------+-------------+--------------+-----------+--------------+--------------+\n",
      "|step|    type|  amount|   nameOrig|oldbalanceOrg|newbalanceOrig|   nameDest|oldbalanceDest|newbalanceDest|\n",
      "+----+--------+--------+-----------+-------------+--------------+-----------+--------------+--------------+\n",
      "|   1| PAYMENT| 9839.64|C1231006815|     170136.0|     160296.36|M1979787155|           0.0|           0.0|\n",
      "|   1| PAYMENT| 1864.28|C1666544295|      21249.0|      19384.72|M2044282225|           0.0|           0.0|\n",
      "|   1|TRANSFER|   181.0|C1305486145|        181.0|           0.0| C553264065|           0.0|           0.0|\n",
      "|   1|CASH_OUT|   181.0| C840083671|        181.0|           0.0|  C38997010|       21182.0|           0.0|\n",
      "|   1| PAYMENT|11668.14|C2048537720|      41554.0|      29885.86|M1230701703|           0.0|           0.0|\n",
      "+----+--------+--------+-----------+-------------+--------------+-----------+--------------+--------------+\n",
      "only showing top 5 rows\n",
      "\n"
     ]
    }
   ],
   "source": [
    "df.show(5)"
   ]
  },
  {
   "cell_type": "markdown",
   "metadata": {},
   "source": [
    "# Input Data Streaming"
   ]
  },
  {
   "cell_type": "code",
   "execution_count": 13,
   "metadata": {},
   "outputs": [
    {
     "name": "stdout",
     "output_type": "stream",
     "text": [
      "+----+-----+\n",
      "|step|count|\n",
      "+----+-----+\n",
      "|  12|36153|\n",
      "|   1| 2708|\n",
      "|  13|37515|\n",
      "|   6| 1660|\n",
      "|  16|42471|\n",
      "+----+-----+\n",
      "only showing top 5 rows\n",
      "\n"
     ]
    }
   ],
   "source": [
    "df.groupBy(\"step\").count().show(5)"
   ]
  },
  {
   "cell_type": "code",
   "execution_count": null,
   "metadata": {},
   "outputs": [],
   "source": [
    "%%time\n",
    "steps = df.select(\"step\").distinct().collect()\n",
    "\n",
    "for step in steps[:]:\n",
    "    _df = df.where(f\"step = {step[0]}\")\n",
    "    # adding coalesce(1) to save dataframe to one file\n",
    "    _df.coalesce(1).write.mode(\"append\").option(\"header\", \"true\").csv(\"data/fraud\")\n"
   ]
  },
  {
   "cell_type": "code",
   "execution_count": 19,
   "metadata": {},
   "outputs": [],
   "source": [
    "!cd data/fraud"
   ]
  },
  {
   "cell_type": "code",
   "execution_count": 21,
   "metadata": {},
   "outputs": [],
   "source": [
    "part = spark.read.csv(\"data/fraud/part-00000-1c0e7ca8-c227-46ff-80ce-949291c702aa-c000.csv\",\n",
    "        header=True, \n",
    "        inferSchema=True)"
   ]
  },
  {
   "cell_type": "code",
   "execution_count": 23,
   "metadata": {},
   "outputs": [
    {
     "name": "stdout",
     "output_type": "stream",
     "text": [
      "+----+-----+\n",
      "|step|count|\n",
      "+----+-----+\n",
      "|  41|36348|\n",
      "+----+-----+\n",
      "\n"
     ]
    }
   ],
   "source": [
    "part.groupBy(\"step\").count().show()"
   ]
  },
  {
   "cell_type": "markdown",
   "metadata": {},
   "source": [
    "# Streaming Processing"
   ]
  },
  {
   "cell_type": "code",
   "execution_count": 24,
   "metadata": {},
   "outputs": [],
   "source": [
    "dataSchema = part.schema"
   ]
  },
  {
   "cell_type": "code",
   "execution_count": 25,
   "metadata": {},
   "outputs": [
    {
     "data": {
      "text/plain": [
       "StructType([StructField('step', IntegerType(), True), StructField('type', StringType(), True), StructField('amount', DoubleType(), True), StructField('nameOrig', StringType(), True), StructField('oldbalanceOrg', DoubleType(), True), StructField('newbalanceOrig', DoubleType(), True), StructField('nameDest', StringType(), True), StructField('oldbalanceDest', DoubleType(), True), StructField('newbalanceDest', DoubleType(), True)])"
      ]
     },
     "execution_count": 25,
     "metadata": {},
     "output_type": "execute_result"
    }
   ],
   "source": [
    "dataSchema"
   ]
  },
  {
   "cell_type": "code",
   "execution_count": 26,
   "metadata": {},
   "outputs": [],
   "source": [
    "streaming = (\n",
    "    spark.readStream.schema(dataSchema)\n",
    "    .option(\"maxFilesPerTrigger\", 1)\n",
    "    .csv(\"data/fraud\")\n",
    ")"
   ]
  },
  {
   "cell_type": "markdown",
   "metadata": {},
   "source": [
    "Transform: nameDest col is the ID of the recipient of the transaction"
   ]
  },
  {
   "cell_type": "code",
   "execution_count": 27,
   "metadata": {},
   "outputs": [],
   "source": [
    "dest_count = streaming.groupBy(\"nameDest\").count().orderBy(F.desc(\"count\"))"
   ]
  },
  {
   "cell_type": "code",
   "execution_count": 28,
   "metadata": {},
   "outputs": [
    {
     "name": "stdout",
     "output_type": "stream",
     "text": [
      "+-----------+-----+\n",
      "|   nameDest|count|\n",
      "+-----------+-----+\n",
      "|C2131465140|    9|\n",
      "| C499714286|    9|\n",
      "|C1760966565|    7|\n",
      "|C1239707538|    7|\n",
      "|C1968101532|    7|\n",
      "|C1139127799|    7|\n",
      "| C709613653|    7|\n",
      "|C1193495878|    7|\n",
      "|C1907159141|    7|\n",
      "|C1390358265|    7|\n",
      "+-----------+-----+\n",
      "only showing top 10 rows\n",
      "\n",
      "+-----------+-----+\n",
      "|   nameDest|count|\n",
      "+-----------+-----+\n",
      "|C2131465140|    9|\n",
      "| C499714286|    9|\n",
      "|C1760966565|    7|\n",
      "|C1239707538|    7|\n",
      "|C1968101532|    7|\n",
      "|C1139127799|    7|\n",
      "| C709613653|    7|\n",
      "|C1193495878|    7|\n",
      "|C1907159141|    7|\n",
      "|C1390358265|    7|\n",
      "+-----------+-----+\n",
      "only showing top 10 rows\n",
      "\n",
      "+-----------+-----+\n",
      "|   nameDest|count|\n",
      "+-----------+-----+\n",
      "|C2131465140|    9|\n",
      "| C499714286|    9|\n",
      "|C1760966565|    7|\n",
      "|C1239707538|    7|\n",
      "|C1968101532|    7|\n",
      "|C1139127799|    7|\n",
      "| C709613653|    7|\n",
      "|C1193495878|    7|\n",
      "|C1907159141|    7|\n",
      "|C1390358265|    7|\n",
      "+-----------+-----+\n",
      "only showing top 10 rows\n",
      "\n",
      "+-----------+-----+\n",
      "|   nameDest|count|\n",
      "+-----------+-----+\n",
      "|C1590550415|   34|\n",
      "| C985934102|   33|\n",
      "| C564160838|   30|\n",
      "|C2083562754|   25|\n",
      "| C665576141|   23|\n",
      "|C1286084959|   23|\n",
      "| C401424608|   22|\n",
      "|  C33524623|   22|\n",
      "| C998351292|   22|\n",
      "|C1023714065|   22|\n",
      "+-----------+-----+\n",
      "only showing top 10 rows\n",
      "\n",
      "+-----------+-----+\n",
      "|   nameDest|count|\n",
      "+-----------+-----+\n",
      "|C1590550415|   34|\n",
      "| C985934102|   33|\n",
      "| C564160838|   30|\n",
      "|C2083562754|   25|\n",
      "| C665576141|   23|\n",
      "|C1286084959|   23|\n",
      "| C401424608|   22|\n",
      "|  C33524623|   22|\n",
      "| C998351292|   22|\n",
      "|C1023714065|   22|\n",
      "+-----------+-----+\n",
      "only showing top 10 rows\n",
      "\n",
      "+-----------+-----+\n",
      "|   nameDest|count|\n",
      "+-----------+-----+\n",
      "|C1590550415|   34|\n",
      "| C985934102|   33|\n",
      "| C564160838|   30|\n",
      "|C2083562754|   25|\n",
      "| C665576141|   23|\n",
      "|C1286084959|   23|\n",
      "| C401424608|   22|\n",
      "|  C33524623|   22|\n",
      "| C998351292|   22|\n",
      "|C1023714065|   22|\n",
      "+-----------+-----+\n",
      "only showing top 10 rows\n",
      "\n",
      "+-----------+-----+\n",
      "|   nameDest|count|\n",
      "+-----------+-----+\n",
      "|C1590550415|   34|\n",
      "| C985934102|   33|\n",
      "| C564160838|   30|\n",
      "|C2083562754|   25|\n",
      "| C665576141|   23|\n",
      "|C1286084959|   23|\n",
      "| C401424608|   22|\n",
      "|  C33524623|   22|\n",
      "| C998351292|   22|\n",
      "|C1023714065|   22|\n",
      "+-----------+-----+\n",
      "only showing top 10 rows\n",
      "\n",
      "+-----------+-----+\n",
      "|   nameDest|count|\n",
      "+-----------+-----+\n",
      "| C985934102|   36|\n",
      "|C1590550415|   35|\n",
      "| C564160838|   30|\n",
      "|C2083562754|   27|\n",
      "|C1789550256|   25|\n",
      "| C998351292|   25|\n",
      "| C665576141|   24|\n",
      "| C451111351|   23|\n",
      "|C1286084959|   23|\n",
      "| C401424608|   22|\n",
      "+-----------+-----+\n",
      "only showing top 10 rows\n",
      "\n",
      "+-----------+-----+\n",
      "|   nameDest|count|\n",
      "+-----------+-----+\n",
      "| C985934102|   36|\n",
      "|C1590550415|   35|\n",
      "| C564160838|   30|\n",
      "|C2083562754|   27|\n",
      "|C1789550256|   25|\n",
      "| C998351292|   25|\n",
      "| C665576141|   24|\n",
      "| C451111351|   23|\n",
      "|C1286084959|   23|\n",
      "| C401424608|   22|\n",
      "+-----------+-----+\n",
      "only showing top 10 rows\n",
      "\n",
      "+-----------+-----+\n",
      "|   nameDest|count|\n",
      "+-----------+-----+\n",
      "| C985934102|   36|\n",
      "|C1590550415|   35|\n",
      "| C564160838|   30|\n",
      "|C2083562754|   27|\n",
      "|C1789550256|   25|\n",
      "| C998351292|   25|\n",
      "| C665576141|   24|\n",
      "| C451111351|   23|\n",
      "|C1286084959|   23|\n",
      "| C401424608|   22|\n",
      "+-----------+-----+\n",
      "only showing top 10 rows\n",
      "\n",
      "+-----------+-----+\n",
      "|   nameDest|count|\n",
      "+-----------+-----+\n",
      "| C985934102|   46|\n",
      "|C1590550415|   44|\n",
      "|C2083562754|   31|\n",
      "| C665576141|   30|\n",
      "|C1360767589|   30|\n",
      "|C1789550256|   30|\n",
      "| C564160838|   30|\n",
      "| C451111351|   28|\n",
      "|C1286084959|   26|\n",
      "| C998351292|   25|\n",
      "+-----------+-----+\n",
      "only showing top 10 rows\n",
      "\n",
      "+-----------+-----+\n",
      "|   nameDest|count|\n",
      "+-----------+-----+\n",
      "| C985934102|   46|\n",
      "|C1590550415|   44|\n",
      "|C2083562754|   31|\n",
      "| C665576141|   30|\n",
      "|C1360767589|   30|\n",
      "|C1789550256|   30|\n",
      "| C564160838|   30|\n",
      "| C451111351|   28|\n",
      "|C1286084959|   26|\n",
      "| C998351292|   25|\n",
      "+-----------+-----+\n",
      "only showing top 10 rows\n",
      "\n",
      "+-----------+-----+\n",
      "|   nameDest|count|\n",
      "+-----------+-----+\n",
      "| C985934102|   46|\n",
      "|C1590550415|   44|\n",
      "|C2083562754|   31|\n",
      "| C665576141|   30|\n",
      "|C1360767589|   30|\n",
      "|C1789550256|   30|\n",
      "| C564160838|   30|\n",
      "| C451111351|   28|\n",
      "|C1286084959|   26|\n",
      "| C998351292|   25|\n",
      "+-----------+-----+\n",
      "only showing top 10 rows\n",
      "\n",
      "+-----------+-----+\n",
      "|   nameDest|count|\n",
      "+-----------+-----+\n",
      "| C985934102|   46|\n",
      "|C1590550415|   44|\n",
      "| C665576141|   32|\n",
      "|C1360767589|   31|\n",
      "|C2083562754|   31|\n",
      "|C1789550256|   30|\n",
      "| C564160838|   30|\n",
      "| C451111351|   29|\n",
      "| C932583850|   27|\n",
      "|C1286084959|   26|\n",
      "+-----------+-----+\n",
      "only showing top 10 rows\n",
      "\n",
      "+-----------+-----+\n",
      "|   nameDest|count|\n",
      "+-----------+-----+\n",
      "| C985934102|   46|\n",
      "|C1590550415|   44|\n",
      "| C665576141|   32|\n",
      "|C1360767589|   31|\n",
      "|C2083562754|   31|\n",
      "|C1789550256|   30|\n",
      "| C564160838|   30|\n",
      "| C451111351|   29|\n",
      "| C932583850|   27|\n",
      "|C1286084959|   26|\n",
      "+-----------+-----+\n",
      "only showing top 10 rows\n",
      "\n",
      "+-----------+-----+\n",
      "|   nameDest|count|\n",
      "+-----------+-----+\n",
      "| C985934102|   46|\n",
      "|C1590550415|   44|\n",
      "| C665576141|   32|\n",
      "|C1360767589|   31|\n",
      "|C2083562754|   31|\n",
      "|C1789550256|   30|\n",
      "| C564160838|   30|\n",
      "| C451111351|   29|\n",
      "| C932583850|   27|\n",
      "|C1286084959|   26|\n",
      "+-----------+-----+\n",
      "only showing top 10 rows\n",
      "\n",
      "+-----------+-----+\n",
      "|   nameDest|count|\n",
      "+-----------+-----+\n",
      "| C985934102|   47|\n",
      "|C1590550415|   46|\n",
      "| C665576141|   35|\n",
      "| C451111351|   34|\n",
      "|C1360767589|   33|\n",
      "|C1789550256|   33|\n",
      "| C932583850|   31|\n",
      "| C564160838|   31|\n",
      "|C2083562754|   31|\n",
      "|C1286084959|   29|\n",
      "+-----------+-----+\n",
      "only showing top 10 rows\n",
      "\n",
      "+-----------+-----+\n",
      "|   nameDest|count|\n",
      "+-----------+-----+\n",
      "| C985934102|   47|\n",
      "|C1590550415|   46|\n",
      "| C665576141|   35|\n",
      "| C451111351|   34|\n",
      "|C1360767589|   33|\n",
      "|C1789550256|   33|\n",
      "| C932583850|   31|\n",
      "| C564160838|   31|\n",
      "|C2083562754|   31|\n",
      "|C1286084959|   29|\n",
      "+-----------+-----+\n",
      "only showing top 10 rows\n",
      "\n",
      "+-----------+-----+\n",
      "|   nameDest|count|\n",
      "+-----------+-----+\n",
      "| C985934102|   47|\n",
      "|C1590550415|   46|\n",
      "| C665576141|   35|\n",
      "| C451111351|   34|\n",
      "|C1360767589|   33|\n",
      "|C1789550256|   33|\n",
      "| C932583850|   31|\n",
      "| C564160838|   31|\n",
      "|C2083562754|   31|\n",
      "|C1286084959|   29|\n",
      "+-----------+-----+\n",
      "only showing top 10 rows\n",
      "\n",
      "+-----------+-----+\n",
      "|   nameDest|count|\n",
      "+-----------+-----+\n",
      "| C985934102|   49|\n",
      "|C1590550415|   48|\n",
      "| C665576141|   35|\n",
      "| C451111351|   34|\n",
      "|C1789550256|   34|\n",
      "|C1360767589|   33|\n",
      "|C2083562754|   32|\n",
      "| C932583850|   31|\n",
      "| C564160838|   31|\n",
      "|C1286084959|   29|\n",
      "+-----------+-----+\n",
      "only showing top 10 rows\n",
      "\n",
      "+-----------+-----+\n",
      "|   nameDest|count|\n",
      "+-----------+-----+\n",
      "| C985934102|   49|\n",
      "|C1590550415|   48|\n",
      "| C665576141|   35|\n",
      "| C451111351|   34|\n",
      "|C1789550256|   34|\n",
      "|C1360767589|   33|\n",
      "|C2083562754|   32|\n",
      "| C932583850|   31|\n",
      "| C564160838|   31|\n",
      "|C1286084959|   29|\n",
      "+-----------+-----+\n",
      "only showing top 10 rows\n",
      "\n",
      "+-----------+-----+\n",
      "|   nameDest|count|\n",
      "+-----------+-----+\n",
      "|C1590550415|   53|\n",
      "| C985934102|   51|\n",
      "| C665576141|   38|\n",
      "| C451111351|   37|\n",
      "|C1789550256|   35|\n",
      "|C2083562754|   35|\n",
      "| C932583850|   34|\n",
      "|C1360767589|   34|\n",
      "| C564160838|   32|\n",
      "| C453211571|   31|\n",
      "+-----------+-----+\n",
      "only showing top 10 rows\n",
      "\n",
      "+-----------+-----+\n",
      "|   nameDest|count|\n",
      "+-----------+-----+\n",
      "|C1590550415|   53|\n",
      "| C985934102|   51|\n",
      "| C665576141|   38|\n",
      "| C451111351|   37|\n",
      "|C1789550256|   35|\n",
      "|C2083562754|   35|\n",
      "| C932583850|   34|\n",
      "|C1360767589|   34|\n",
      "| C564160838|   32|\n",
      "| C453211571|   31|\n",
      "+-----------+-----+\n",
      "only showing top 10 rows\n",
      "\n",
      "+-----------+-----+\n",
      "|   nameDest|count|\n",
      "+-----------+-----+\n",
      "|C1590550415|   53|\n",
      "| C985934102|   51|\n",
      "| C665576141|   38|\n",
      "| C451111351|   37|\n",
      "|C1789550256|   35|\n",
      "|C2083562754|   35|\n",
      "| C932583850|   34|\n",
      "|C1360767589|   34|\n",
      "| C564160838|   32|\n",
      "| C453211571|   31|\n",
      "+-----------+-----+\n",
      "only showing top 10 rows\n",
      "\n",
      "+-----------+-----+\n",
      "|   nameDest|count|\n",
      "+-----------+-----+\n",
      "|C1590550415|   54|\n",
      "| C985934102|   53|\n",
      "| C665576141|   38|\n",
      "| C451111351|   38|\n",
      "|C1789550256|   36|\n",
      "|C1360767589|   35|\n",
      "|C2083562754|   35|\n",
      "| C932583850|   34|\n",
      "| C564160838|   32|\n",
      "| C453211571|   31|\n",
      "+-----------+-----+\n",
      "only showing top 10 rows\n",
      "\n",
      "+-----------+-----+\n",
      "|   nameDest|count|\n",
      "+-----------+-----+\n",
      "|C1590550415|   54|\n",
      "| C985934102|   53|\n",
      "| C665576141|   38|\n",
      "| C451111351|   38|\n",
      "|C1789550256|   36|\n",
      "|C1360767589|   35|\n",
      "|C2083562754|   35|\n",
      "| C932583850|   34|\n",
      "| C564160838|   32|\n",
      "| C453211571|   31|\n",
      "+-----------+-----+\n",
      "only showing top 10 rows\n",
      "\n",
      "+-----------+-----+\n",
      "|   nameDest|count|\n",
      "+-----------+-----+\n",
      "|C1590550415|   54|\n",
      "| C985934102|   53|\n",
      "| C665576141|   40|\n",
      "| C451111351|   39|\n",
      "|C1789550256|   38|\n",
      "| C932583850|   36|\n",
      "|C1360767589|   36|\n",
      "|C2083562754|   35|\n",
      "| C248609774|   32|\n",
      "| C453211571|   32|\n",
      "+-----------+-----+\n",
      "only showing top 10 rows\n",
      "\n"
     ]
    },
    {
     "name": "stderr",
     "output_type": "stream",
     "text": [
      "ERROR:root:KeyboardInterrupt while sending command.\n",
      "Traceback (most recent call last):\n",
      "  File \"D:\\spark\\python\\lib\\py4j-0.10.9.7-src.zip\\py4j\\java_gateway.py\", line 1038, in send_command\n",
      "    response = connection.send_command(command)\n",
      "  File \"D:\\spark\\python\\lib\\py4j-0.10.9.7-src.zip\\py4j\\clientserver.py\", line 511, in send_command\n",
      "    answer = smart_decode(self.stream.readline()[:-1])\n",
      "  File \"c:\\Users\\hanhn\\AppData\\Local\\Programs\\Python\\Python39\\lib\\socket.py\", line 704, in readinto\n",
      "    return self._sock.recv_into(b)\n",
      "KeyboardInterrupt\n"
     ]
    },
    {
     "ename": "KeyboardInterrupt",
     "evalue": "",
     "output_type": "error",
     "traceback": [
      "\u001b[1;31m---------------------------------------------------------------------------\u001b[0m",
      "\u001b[1;31mKeyboardInterrupt\u001b[0m                         Traceback (most recent call last)",
      "Cell \u001b[1;32mIn[28], line 16\u001b[0m\n\u001b[0;32m     12\u001b[0m \u001b[38;5;28;01mfor\u001b[39;00m x \u001b[38;5;129;01min\u001b[39;00m \u001b[38;5;28mrange\u001b[39m(\u001b[38;5;241m50\u001b[39m):\n\u001b[0;32m     13\u001b[0m     _df \u001b[38;5;241m=\u001b[39m spark\u001b[38;5;241m.\u001b[39msql(\n\u001b[0;32m     14\u001b[0m         \u001b[38;5;124m\"\u001b[39m\u001b[38;5;124mSELECT * FROM dest_counts WHERE nameDest != \u001b[39m\u001b[38;5;124m'\u001b[39m\u001b[38;5;124mnameDest\u001b[39m\u001b[38;5;124m'\u001b[39m\u001b[38;5;124m AND count>=2\u001b[39m\u001b[38;5;124m\"\u001b[39m\n\u001b[0;32m     15\u001b[0m     )\n\u001b[1;32m---> 16\u001b[0m     \u001b[38;5;28;01mif\u001b[39;00m \u001b[43m_df\u001b[49m\u001b[38;5;241;43m.\u001b[39;49m\u001b[43mcount\u001b[49m\u001b[43m(\u001b[49m\u001b[43m)\u001b[49m \u001b[38;5;241m>\u001b[39m \u001b[38;5;241m0\u001b[39m:\n\u001b[0;32m     17\u001b[0m         _df\u001b[38;5;241m.\u001b[39mshow(\u001b[38;5;241m10\u001b[39m)\n\u001b[0;32m     18\u001b[0m     time\u001b[38;5;241m.\u001b[39msleep(\u001b[38;5;241m0.5\u001b[39m)\n",
      "File \u001b[1;32mD:\\spark\\python\\pyspark\\sql\\dataframe.py:1238\u001b[0m, in \u001b[0;36mDataFrame.count\u001b[1;34m(self)\u001b[0m\n\u001b[0;32m   1215\u001b[0m \u001b[38;5;28;01mdef\u001b[39;00m \u001b[38;5;21mcount\u001b[39m(\u001b[38;5;28mself\u001b[39m) \u001b[38;5;241m-\u001b[39m\u001b[38;5;241m>\u001b[39m \u001b[38;5;28mint\u001b[39m:\n\u001b[0;32m   1216\u001b[0m \u001b[38;5;250m    \u001b[39m\u001b[38;5;124;03m\"\"\"Returns the number of rows in this :class:`DataFrame`.\u001b[39;00m\n\u001b[0;32m   1217\u001b[0m \n\u001b[0;32m   1218\u001b[0m \u001b[38;5;124;03m    .. versionadded:: 1.3.0\u001b[39;00m\n\u001b[1;32m   (...)\u001b[0m\n\u001b[0;32m   1236\u001b[0m \u001b[38;5;124;03m    3\u001b[39;00m\n\u001b[0;32m   1237\u001b[0m \u001b[38;5;124;03m    \"\"\"\u001b[39;00m\n\u001b[1;32m-> 1238\u001b[0m     \u001b[38;5;28;01mreturn\u001b[39;00m \u001b[38;5;28mint\u001b[39m(\u001b[38;5;28;43mself\u001b[39;49m\u001b[38;5;241;43m.\u001b[39;49m\u001b[43m_jdf\u001b[49m\u001b[38;5;241;43m.\u001b[39;49m\u001b[43mcount\u001b[49m\u001b[43m(\u001b[49m\u001b[43m)\u001b[49m)\n",
      "File \u001b[1;32mD:\\spark\\python\\lib\\py4j-0.10.9.7-src.zip\\py4j\\java_gateway.py:1321\u001b[0m, in \u001b[0;36mJavaMember.__call__\u001b[1;34m(self, *args)\u001b[0m\n\u001b[0;32m   1314\u001b[0m args_command, temp_args \u001b[38;5;241m=\u001b[39m \u001b[38;5;28mself\u001b[39m\u001b[38;5;241m.\u001b[39m_build_args(\u001b[38;5;241m*\u001b[39margs)\n\u001b[0;32m   1316\u001b[0m command \u001b[38;5;241m=\u001b[39m proto\u001b[38;5;241m.\u001b[39mCALL_COMMAND_NAME \u001b[38;5;241m+\u001b[39m\\\n\u001b[0;32m   1317\u001b[0m     \u001b[38;5;28mself\u001b[39m\u001b[38;5;241m.\u001b[39mcommand_header \u001b[38;5;241m+\u001b[39m\\\n\u001b[0;32m   1318\u001b[0m     args_command \u001b[38;5;241m+\u001b[39m\\\n\u001b[0;32m   1319\u001b[0m     proto\u001b[38;5;241m.\u001b[39mEND_COMMAND_PART\n\u001b[1;32m-> 1321\u001b[0m answer \u001b[38;5;241m=\u001b[39m \u001b[38;5;28;43mself\u001b[39;49m\u001b[38;5;241;43m.\u001b[39;49m\u001b[43mgateway_client\u001b[49m\u001b[38;5;241;43m.\u001b[39;49m\u001b[43msend_command\u001b[49m\u001b[43m(\u001b[49m\u001b[43mcommand\u001b[49m\u001b[43m)\u001b[49m\n\u001b[0;32m   1322\u001b[0m return_value \u001b[38;5;241m=\u001b[39m get_return_value(\n\u001b[0;32m   1323\u001b[0m     answer, \u001b[38;5;28mself\u001b[39m\u001b[38;5;241m.\u001b[39mgateway_client, \u001b[38;5;28mself\u001b[39m\u001b[38;5;241m.\u001b[39mtarget_id, \u001b[38;5;28mself\u001b[39m\u001b[38;5;241m.\u001b[39mname)\n\u001b[0;32m   1325\u001b[0m \u001b[38;5;28;01mfor\u001b[39;00m temp_arg \u001b[38;5;129;01min\u001b[39;00m temp_args:\n",
      "File \u001b[1;32mD:\\spark\\python\\lib\\py4j-0.10.9.7-src.zip\\py4j\\java_gateway.py:1038\u001b[0m, in \u001b[0;36mGatewayClient.send_command\u001b[1;34m(self, command, retry, binary)\u001b[0m\n\u001b[0;32m   1036\u001b[0m connection \u001b[38;5;241m=\u001b[39m \u001b[38;5;28mself\u001b[39m\u001b[38;5;241m.\u001b[39m_get_connection()\n\u001b[0;32m   1037\u001b[0m \u001b[38;5;28;01mtry\u001b[39;00m:\n\u001b[1;32m-> 1038\u001b[0m     response \u001b[38;5;241m=\u001b[39m \u001b[43mconnection\u001b[49m\u001b[38;5;241;43m.\u001b[39;49m\u001b[43msend_command\u001b[49m\u001b[43m(\u001b[49m\u001b[43mcommand\u001b[49m\u001b[43m)\u001b[49m\n\u001b[0;32m   1039\u001b[0m     \u001b[38;5;28;01mif\u001b[39;00m binary:\n\u001b[0;32m   1040\u001b[0m         \u001b[38;5;28;01mreturn\u001b[39;00m response, \u001b[38;5;28mself\u001b[39m\u001b[38;5;241m.\u001b[39m_create_connection_guard(connection)\n",
      "File \u001b[1;32mD:\\spark\\python\\lib\\py4j-0.10.9.7-src.zip\\py4j\\clientserver.py:511\u001b[0m, in \u001b[0;36mClientServerConnection.send_command\u001b[1;34m(self, command)\u001b[0m\n\u001b[0;32m    509\u001b[0m \u001b[38;5;28;01mtry\u001b[39;00m:\n\u001b[0;32m    510\u001b[0m     \u001b[38;5;28;01mwhile\u001b[39;00m \u001b[38;5;28;01mTrue\u001b[39;00m:\n\u001b[1;32m--> 511\u001b[0m         answer \u001b[38;5;241m=\u001b[39m smart_decode(\u001b[38;5;28;43mself\u001b[39;49m\u001b[38;5;241;43m.\u001b[39;49m\u001b[43mstream\u001b[49m\u001b[38;5;241;43m.\u001b[39;49m\u001b[43mreadline\u001b[49m\u001b[43m(\u001b[49m\u001b[43m)\u001b[49m[:\u001b[38;5;241m-\u001b[39m\u001b[38;5;241m1\u001b[39m])\n\u001b[0;32m    512\u001b[0m         logger\u001b[38;5;241m.\u001b[39mdebug(\u001b[38;5;124m\"\u001b[39m\u001b[38;5;124mAnswer received: \u001b[39m\u001b[38;5;132;01m{0}\u001b[39;00m\u001b[38;5;124m\"\u001b[39m\u001b[38;5;241m.\u001b[39mformat(answer))\n\u001b[0;32m    513\u001b[0m         \u001b[38;5;66;03m# Happens when a the other end is dead. There might be an empty\u001b[39;00m\n\u001b[0;32m    514\u001b[0m         \u001b[38;5;66;03m# answer before the socket raises an error.\u001b[39;00m\n",
      "File \u001b[1;32mc:\\Users\\hanhn\\AppData\\Local\\Programs\\Python\\Python39\\lib\\socket.py:704\u001b[0m, in \u001b[0;36mSocketIO.readinto\u001b[1;34m(self, b)\u001b[0m\n\u001b[0;32m    702\u001b[0m \u001b[38;5;28;01mwhile\u001b[39;00m \u001b[38;5;28;01mTrue\u001b[39;00m:\n\u001b[0;32m    703\u001b[0m     \u001b[38;5;28;01mtry\u001b[39;00m:\n\u001b[1;32m--> 704\u001b[0m         \u001b[38;5;28;01mreturn\u001b[39;00m \u001b[38;5;28;43mself\u001b[39;49m\u001b[38;5;241;43m.\u001b[39;49m\u001b[43m_sock\u001b[49m\u001b[38;5;241;43m.\u001b[39;49m\u001b[43mrecv_into\u001b[49m\u001b[43m(\u001b[49m\u001b[43mb\u001b[49m\u001b[43m)\u001b[49m\n\u001b[0;32m    705\u001b[0m     \u001b[38;5;28;01mexcept\u001b[39;00m timeout:\n\u001b[0;32m    706\u001b[0m         \u001b[38;5;28mself\u001b[39m\u001b[38;5;241m.\u001b[39m_timeout_occurred \u001b[38;5;241m=\u001b[39m \u001b[38;5;28;01mTrue\u001b[39;00m\n",
      "\u001b[1;31mKeyboardInterrupt\u001b[0m: "
     ]
    }
   ],
   "source": [
    "activityQuery = (\n",
    "    dest_count.writeStream.queryName(\"dest_counts\")\n",
    "    .format(\"memory\")\n",
    "    .outputMode(\"complete\")\n",
    "    .start()   \n",
    ")\n",
    "#only needed in production\n",
    "# activityQuery.awaitTermination()\n",
    "\n",
    "import time\n",
    "\n",
    "for x in range(50):\n",
    "    _df = spark.sql(\n",
    "        \"SELECT * FROM dest_counts WHERE nameDest != 'nameDest' AND count>=2\"\n",
    "    )\n",
    "    if _df.count() > 0:\n",
    "        _df.show(10)\n",
    "    time.sleep(0.5)"
   ]
  },
  {
   "cell_type": "code",
   "execution_count": 29,
   "metadata": {},
   "outputs": [
    {
     "data": {
      "text/plain": [
       "True"
      ]
     },
     "execution_count": 29,
     "metadata": {},
     "output_type": "execute_result"
    }
   ],
   "source": [
    "# check if stream is active\n",
    "spark.streams.active[0].isActive"
   ]
  },
  {
   "cell_type": "code",
   "execution_count": 30,
   "metadata": {},
   "outputs": [
    {
     "data": {
      "text/plain": [
       "{'message': 'Processing new data',\n",
       " 'isDataAvailable': True,\n",
       " 'isTriggerActive': True}"
      ]
     },
     "execution_count": 30,
     "metadata": {},
     "output_type": "execute_result"
    }
   ],
   "source": [
    "activityQuery.status"
   ]
  },
  {
   "cell_type": "code",
   "execution_count": 31,
   "metadata": {},
   "outputs": [],
   "source": [
    "activityQuery.stop()"
   ]
  }
 ],
 "metadata": {
  "kernelspec": {
   "display_name": "Python 3",
   "language": "python",
   "name": "python3"
  },
  "language_info": {
   "codemirror_mode": {
    "name": "ipython",
    "version": 3
   },
   "file_extension": ".py",
   "mimetype": "text/x-python",
   "name": "python",
   "nbconvert_exporter": "python",
   "pygments_lexer": "ipython3",
   "version": "3.9.0"
  }
 },
 "nbformat": 4,
 "nbformat_minor": 2
}
