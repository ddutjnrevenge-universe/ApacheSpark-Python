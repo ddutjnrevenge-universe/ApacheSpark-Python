{
 "cells": [
  {
   "cell_type": "code",
   "execution_count": 15,
   "metadata": {},
   "outputs": [],
   "source": [
    "import findspark\n",
    "findspark.init()"
   ]
  },
  {
   "cell_type": "code",
   "execution_count": 28,
   "metadata": {},
   "outputs": [],
   "source": [
    "from pyspark.sql import SparkSession\n",
    "from pyspark.sql.types import StructType, StructField, StringType, IntegerType, DoubleType\n",
    "from pyspark.sql.functions import *\n",
    "\n",
    "# Initialize Spark session\n",
    "spark = SparkSession.builder \\\n",
    "    .appName(\"JSON Streaming Example\") \\\n",
    "    .getOrCreate()\n",
    "\n",
    "# Define the schema for the JSON data\n",
    "jsonSchema = StructType([\n",
    "    StructField(\"quiz\", StructType([\n",
    "        StructField(\"sport\", StructType([\n",
    "            StructField(\"q1\", StructType([\n",
    "                StructField(\"question\", StringType(), True),\n",
    "                StructField(\"options\", StringType(), True),\n",
    "                StructField(\"answer\", StringType(), True)\n",
    "            ]))\n",
    "        ])),\n",
    "        StructField(\"maths\", StructType([\n",
    "            StructField(\"q1\", StructType([\n",
    "                StructField(\"question\", StringType(), True),\n",
    "                StructField(\"options\", StringType(), True),\n",
    "                StructField(\"answer\", StringType(), True)\n",
    "            ])),\n",
    "            StructField(\"q2\", StructType([\n",
    "                StructField(\"question\", StringType(), True),\n",
    "                StructField(\"options\", StringType(), True),\n",
    "                StructField(\"answer\", StringType(), True)\n",
    "            ]))\n",
    "        ]))\n",
    "    ]))\n",
    "])\n",
    "\n",
    "# Specify the input path\n",
    "inputPath = \"F:\\Data_Engineering\\Apache_Spark\\data\\example_2.json\"\n",
    "\n",
    "streamingInputDF = (\n",
    "    spark\n",
    "    .readStream\n",
    "    .schema(jsonSchema) # set schema of the JSON data\n",
    "    .option(\"maxFilesPerTrigger\", 1)\n",
    "    .json(inputPath)\n",
    ")"
   ]
  },
  {
   "cell_type": "code",
   "execution_count": 30,
   "metadata": {},
   "outputs": [],
   "source": [
    "# Extract fields from the nested JSON structure\n",
    "extractedDF = streamingInputDF.selectExpr(\n",
    "    \"quiz.sport.q1.question as sport_question\",\n",
    "    \"quiz.sport.q1.answer as sport_answer\",\n",
    "    \"quiz.maths.q1.question as maths_question1\",\n",
    "    \"quiz.maths.q1.answer as maths_answer1\",\n",
    "    \"quiz.maths.q2.question as maths_question2\",\n",
    "    \"quiz.maths.q2.answer as maths_answer2\"\n",
    ")"
   ]
  },
  {
   "cell_type": "code",
   "execution_count": 31,
   "metadata": {},
   "outputs": [
    {
     "name": "stdout",
     "output_type": "stream",
     "text": [
      "root\n",
      " |-- sport_question: string (nullable = true)\n",
      " |-- sport_answer: string (nullable = true)\n",
      " |-- maths_question1: string (nullable = true)\n",
      " |-- maths_answer1: string (nullable = true)\n",
      " |-- maths_question2: string (nullable = true)\n",
      " |-- maths_answer2: string (nullable = true)\n",
      "\n"
     ]
    }
   ],
   "source": [
    "extractedDF.printSchema()"
   ]
  },
  {
   "cell_type": "code",
   "execution_count": 33,
   "metadata": {},
   "outputs": [],
   "source": [
    "streamingCountsDF = (\n",
    "    extractedDF\n",
    "    .groupBy(\n",
    "        \"sport_question\",\n",
    "        window(current_timestamp(), \"1 hour\")\n",
    "    )\n",
    "    .count()\n",
    ")\n"
   ]
  },
  {
   "cell_type": "code",
   "execution_count": 34,
   "metadata": {},
   "outputs": [
    {
     "data": {
      "text/plain": [
       "True"
      ]
     },
     "execution_count": 34,
     "metadata": {},
     "output_type": "execute_result"
    }
   ],
   "source": [
    "streamingCountsDF.isStreaming"
   ]
  },
  {
   "cell_type": "code",
   "execution_count": 35,
   "metadata": {},
   "outputs": [],
   "source": [
    "\n",
    "query = (\n",
    "    streamingCountsDF\n",
    "    .writeStream\n",
    "    .format(\"memory\")\n",
    "    .queryName(\"counts\")\n",
    "    .outputMode(\"complete\")\n",
    "    .start()\n",
    ")\n",
    "\n",
    "# query.awaitTermination()\n",
    "\n"
   ]
  },
  {
   "cell_type": "code",
   "execution_count": null,
   "metadata": {},
   "outputs": [],
   "source": []
  },
  {
   "cell_type": "code",
   "execution_count": 24,
   "metadata": {},
   "outputs": [],
   "source": []
  },
  {
   "cell_type": "code",
   "execution_count": null,
   "metadata": {},
   "outputs": [],
   "source": []
  }
 ],
 "metadata": {
  "kernelspec": {
   "display_name": "Python 3",
   "language": "python",
   "name": "python3"
  },
  "language_info": {
   "codemirror_mode": {
    "name": "ipython",
    "version": 3
   },
   "file_extension": ".py",
   "mimetype": "text/x-python",
   "name": "python",
   "nbconvert_exporter": "python",
   "pygments_lexer": "ipython3",
   "version": "3.9.0"
  }
 },
 "nbformat": 4,
 "nbformat_minor": 2
}
