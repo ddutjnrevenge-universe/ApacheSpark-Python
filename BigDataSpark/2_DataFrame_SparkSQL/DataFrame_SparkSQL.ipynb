{
 "cells": [
  {
   "cell_type": "code",
   "execution_count": 2,
   "metadata": {},
   "outputs": [],
   "source": [
    "import pyspark\n",
    "import pandas as pd"
   ]
  },
  {
   "cell_type": "code",
   "execution_count": 1,
   "metadata": {},
   "outputs": [],
   "source": [
    "from pyspark.sql import SparkSession\n",
    "from pyspark.sql.functions import *"
   ]
  },
  {
   "cell_type": "markdown",
   "metadata": {},
   "source": [
    "# Create SparkSession"
   ]
  },
  {
   "cell_type": "code",
   "execution_count": 3,
   "metadata": {},
   "outputs": [],
   "source": [
    "spark = SparkSession.builder.appName(\"DataFrame\").getOrCreate()"
   ]
  },
  {
   "cell_type": "code",
   "execution_count": 7,
   "metadata": {},
   "outputs": [],
   "source": [
    "# Create a DataFrame\n",
    "emp = [(1, \"Smith\", \"Finance\", 1000),\n",
    "        (2, \"Rose\", \"Marketing\", 2000),\n",
    "        (3, \"Williams\", \"Marketing\", 1000),\n",
    "        (4, \"Jones\", \"Sales\", 2000),\n",
    "        (5, \"Brown\", \"Sales\", 1000),\n",
    "        (6, \"Katie\", \"Finance\", 2000),\n",
    "        (7, \"Linda\", \"IT\", 2000),\n",
    "        (8, \"Michael\", \"IT\", 1000),\n",
    "        (9, \"Johnson\", \"Marketing\", 1000),\n",
    "        (10, \"Tom\", \"Finance\", 2000)]\n",
    "\n",
    "dept = [(\"Finance\", \"fi\"),\n",
    "        (\"Marketing\", \"ma\"),\n",
    "        (\"Sales\", \"sa\"),\n",
    "        (\"Computer Science\", \"cs\")]\n",
    "df = spark.createDataFrame(emp, [\"emp_id\", \"name\", \"dept\", \"salary\"])\n",
    "\n",
    "deptdf = spark.createDataFrame(dept, [\"name\", \"dept_id\"])"
   ]
  },
  {
   "cell_type": "code",
   "execution_count": 8,
   "metadata": {},
   "outputs": [
    {
     "name": "stdout",
     "output_type": "stream",
     "text": [
      "+------+--------+---------+------+\n",
      "|emp_id|    name|     dept|salary|\n",
      "+------+--------+---------+------+\n",
      "|     1|   Smith|  Finance|  1000|\n",
      "|     2|    Rose|Marketing|  2000|\n",
      "|     3|Williams|Marketing|  1000|\n",
      "|     4|   Jones|    Sales|  2000|\n",
      "|     5|   Brown|    Sales|  1000|\n",
      "|     6|   Katie|  Finance|  2000|\n",
      "|     7|   Linda|       IT|  2000|\n",
      "|     8| Michael|       IT|  1000|\n",
      "|     9| Johnson|Marketing|  1000|\n",
      "|    10|     Tom|  Finance|  2000|\n",
      "+------+--------+---------+------+\n",
      "\n"
     ]
    }
   ],
   "source": [
    "df.show()"
   ]
  },
  {
   "cell_type": "code",
   "execution_count": 9,
   "metadata": {},
   "outputs": [
    {
     "name": "stdout",
     "output_type": "stream",
     "text": [
      "+----------------+-------+\n",
      "|            name|dept_id|\n",
      "+----------------+-------+\n",
      "|         Finance|     fi|\n",
      "|       Marketing|     ma|\n",
      "|           Sales|     sa|\n",
      "|Computer Science|     cs|\n",
      "+----------------+-------+\n",
      "\n"
     ]
    }
   ],
   "source": [
    "deptdf.show()"
   ]
  },
  {
   "cell_type": "markdown",
   "metadata": {},
   "source": [
    "# Basic Operations on DataFrame"
   ]
  },
  {
   "cell_type": "code",
   "execution_count": 11,
   "metadata": {},
   "outputs": [
    {
     "data": {
      "text/plain": [
       "10"
      ]
     },
     "execution_count": 11,
     "metadata": {},
     "output_type": "execute_result"
    }
   ],
   "source": [
    "# Count\n",
    "df.count()"
   ]
  },
  {
   "cell_type": "code",
   "execution_count": 12,
   "metadata": {},
   "outputs": [
    {
     "data": {
      "text/plain": [
       "['emp_id', 'name', 'dept', 'salary']"
      ]
     },
     "execution_count": 12,
     "metadata": {},
     "output_type": "execute_result"
    }
   ],
   "source": [
    "# Columns\n",
    "df.columns"
   ]
  },
  {
   "cell_type": "code",
   "execution_count": 13,
   "metadata": {},
   "outputs": [
    {
     "data": {
      "text/plain": [
       "[('emp_id', 'bigint'),\n",
       " ('name', 'string'),\n",
       " ('dept', 'string'),\n",
       " ('salary', 'bigint')]"
      ]
     },
     "execution_count": 13,
     "metadata": {},
     "output_type": "execute_result"
    }
   ],
   "source": [
    "# Dtypes\n",
    "df.dtypes"
   ]
  },
  {
   "cell_type": "code",
   "execution_count": 14,
   "metadata": {},
   "outputs": [
    {
     "data": {
      "text/plain": [
       "StructType([StructField('emp_id', LongType(), True), StructField('name', StringType(), True), StructField('dept', StringType(), True), StructField('salary', LongType(), True)])"
      ]
     },
     "execution_count": 14,
     "metadata": {},
     "output_type": "execute_result"
    }
   ],
   "source": [
    "# Scheme: how Spark stores schema of the dataframe (column name, datatype, nullable?)\n",
    "df.schema"
   ]
  },
  {
   "cell_type": "code",
   "execution_count": 15,
   "metadata": {},
   "outputs": [
    {
     "name": "stdout",
     "output_type": "stream",
     "text": [
      "root\n",
      " |-- emp_id: long (nullable = true)\n",
      " |-- name: string (nullable = true)\n",
      " |-- dept: string (nullable = true)\n",
      " |-- salary: long (nullable = true)\n",
      "\n"
     ]
    }
   ],
   "source": [
    "# print schema\n",
    "df.printSchema()"
   ]
  },
  {
   "cell_type": "code",
   "execution_count": 16,
   "metadata": {},
   "outputs": [
    {
     "name": "stdout",
     "output_type": "stream",
     "text": [
      "+--------+---------+\n",
      "|    name|     dept|\n",
      "+--------+---------+\n",
      "|   Smith|  Finance|\n",
      "|    Rose|Marketing|\n",
      "|Williams|Marketing|\n",
      "|   Jones|    Sales|\n",
      "|   Brown|    Sales|\n",
      "|   Katie|  Finance|\n",
      "|   Linda|       IT|\n",
      "| Michael|       IT|\n",
      "| Johnson|Marketing|\n",
      "|     Tom|  Finance|\n",
      "+--------+---------+\n",
      "\n"
     ]
    }
   ],
   "source": [
    "# Select column from df\n",
    "df.select(\"name\",\"dept\").show()"
   ]
  },
  {
   "cell_type": "code",
   "execution_count": 17,
   "metadata": {},
   "outputs": [
    {
     "name": "stdout",
     "output_type": "stream",
     "text": [
      "+------+-----+-----+------+\n",
      "|emp_id| name| dept|salary|\n",
      "+------+-----+-----+------+\n",
      "|     4|Jones|Sales|  2000|\n",
      "|     5|Brown|Sales|  1000|\n",
      "+------+-----+-----+------+\n",
      "\n",
      "+------+----+---------+------+\n",
      "|emp_id|name|     dept|salary|\n",
      "+------+----+---------+------+\n",
      "|     2|Rose|Marketing|  2000|\n",
      "+------+----+---------+------+\n",
      "\n"
     ]
    }
   ],
   "source": [
    "# Filter\n",
    "df.filter(df[\"dept\"]==\"Sales\").show()\n",
    "df.filter(df[\"emp_id\"]==2).show()"
   ]
  },
  {
   "cell_type": "code",
   "execution_count": 19,
   "metadata": {},
   "outputs": [
    {
     "name": "stdout",
     "output_type": "stream",
     "text": [
      "+------+--------+---------+\n",
      "|emp_id|    name|     dept|\n",
      "+------+--------+---------+\n",
      "|     1|   Smith|  Finance|\n",
      "|     2|    Rose|Marketing|\n",
      "|     3|Williams|Marketing|\n",
      "|     4|   Jones|    Sales|\n",
      "|     5|   Brown|    Sales|\n",
      "|     6|   Katie|  Finance|\n",
      "|     7|   Linda|       IT|\n",
      "|     8| Michael|       IT|\n",
      "|     9| Johnson|Marketing|\n",
      "|    10|     Tom|  Finance|\n",
      "+------+--------+---------+\n",
      "\n"
     ]
    }
   ],
   "source": [
    "# Drop a column\n",
    "dropped = df.drop(\"salary\")\n",
    "dropped.show()"
   ]
  },
  {
   "cell_type": "code",
   "execution_count": 20,
   "metadata": {},
   "outputs": [
    {
     "name": "stdout",
     "output_type": "stream",
     "text": [
      "+------+--------+---------+------+\n",
      "|emp_id|    name|     dept|salary|\n",
      "+------+--------+---------+------+\n",
      "|     1|   Smith|  Finance|  1000|\n",
      "|     2|    Rose|Marketing|  2000|\n",
      "|     3|Williams|Marketing|  1000|\n",
      "|     4|   Jones|    Sales|  2000|\n",
      "|     5|   Brown|    Sales|  1000|\n",
      "|     6|   Katie|  Finance|  2000|\n",
      "|     7|   Linda|       IT|  2000|\n",
      "|     8| Michael|       IT|  1000|\n",
      "|     9| Johnson|Marketing|  1000|\n",
      "|    10|     Tom|  Finance|  2000|\n",
      "+------+--------+---------+------+\n",
      "\n"
     ]
    }
   ],
   "source": [
    "df.show()"
   ]
  },
  {
   "cell_type": "code",
   "execution_count": 22,
   "metadata": {},
   "outputs": [
    {
     "name": "stdout",
     "output_type": "stream",
     "text": [
      "+---------+-----+----+------------------+----+----+\n",
      "|     dept|count| sum|               avg| max| min|\n",
      "+---------+-----+----+------------------+----+----+\n",
      "|  Finance|    3|5000|1666.6666666666667|2000|1000|\n",
      "|Marketing|    3|4000|1333.3333333333333|2000|1000|\n",
      "|    Sales|    2|3000|            1500.0|2000|1000|\n",
      "|       IT|    2|3000|            1500.0|2000|1000|\n",
      "+---------+-----+----+------------------+----+----+\n",
      "\n"
     ]
    }
   ],
   "source": [
    "# Aggregation \n",
    "# use groupbBy function to group data and then \"agg\" function to perform data aggregation\n",
    "(df.groupBy(\"dept\")\n",
    " .agg(count(\"salary\").alias(\"count\"),\n",
    "        sum(\"salary\").alias(\"sum\"),\n",
    "        avg(\"salary\").alias(\"avg\"),\n",
    "        max(\"salary\").alias(\"max\"),\n",
    "        min(\"salary\").alias(\"min\"))\n",
    "    .show()\n",
    ")"
   ]
  },
  {
   "cell_type": "code",
   "execution_count": 27,
   "metadata": {},
   "outputs": [
    {
     "name": "stdout",
     "output_type": "stream",
     "text": [
      "+------+-----+---------+------+\n",
      "|emp_id| name|     dept|salary|\n",
      "+------+-----+---------+------+\n",
      "|     2| Rose|Marketing|  2000|\n",
      "|     4|Jones|    Sales|  2000|\n",
      "|     6|Katie|  Finance|  2000|\n",
      "|     7|Linda|       IT|  2000|\n",
      "|    10|  Tom|  Finance|  2000|\n",
      "+------+-----+---------+------+\n",
      "only showing top 5 rows\n",
      "\n"
     ]
    }
   ],
   "source": [
    "# Sort\n",
    "df.sort(desc(\"salary\"),asc(\"emp_id\")).show(5)"
   ]
  },
  {
   "cell_type": "code",
   "execution_count": 28,
   "metadata": {},
   "outputs": [
    {
     "name": "stdout",
     "output_type": "stream",
     "text": [
      "+------+--------+---------+------+-----+\n",
      "|emp_id|    name|     dept|salary|bonus|\n",
      "+------+--------+---------+------+-----+\n",
      "|     1|   Smith|  Finance|  1000|200.0|\n",
      "|     2|    Rose|Marketing|  2000|400.0|\n",
      "|     3|Williams|Marketing|  1000|200.0|\n",
      "|     4|   Jones|    Sales|  2000|400.0|\n",
      "|     5|   Brown|    Sales|  1000|200.0|\n",
      "|     6|   Katie|  Finance|  2000|400.0|\n",
      "|     7|   Linda|       IT|  2000|400.0|\n",
      "|     8| Michael|       IT|  1000|200.0|\n",
      "|     9| Johnson|Marketing|  1000|200.0|\n",
      "|    10|     Tom|  Finance|  2000|400.0|\n",
      "+------+--------+---------+------+-----+\n",
      "\n"
     ]
    }
   ],
   "source": [
    "# Derived Columns: use withColumn func to create new column based on existing column\n",
    "df.withColumn(\"bonus\", col(\"salary\")*.2).show()"
   ]
  },
  {
   "cell_type": "code",
   "execution_count": null,
   "metadata": {},
   "outputs": [],
   "source": [
    "# Joins\n"
   ]
  },
  {
   "cell_type": "markdown",
   "metadata": {},
   "source": []
  }
 ],
 "metadata": {
  "kernelspec": {
   "display_name": "Python 3",
   "language": "python",
   "name": "python3"
  },
  "language_info": {
   "codemirror_mode": {
    "name": "ipython",
    "version": 3
   },
   "file_extension": ".py",
   "mimetype": "text/x-python",
   "name": "python",
   "nbconvert_exporter": "python",
   "pygments_lexer": "ipython3",
   "version": "3.9.0"
  }
 },
 "nbformat": 4,
 "nbformat_minor": 2
}
