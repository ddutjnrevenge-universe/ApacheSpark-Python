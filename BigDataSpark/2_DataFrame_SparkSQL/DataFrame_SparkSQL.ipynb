{
 "cells": [
  {
   "cell_type": "code",
   "execution_count": 1,
   "metadata": {},
   "outputs": [],
   "source": [
    "import pyspark\n",
    "import pandas as pd"
   ]
  },
  {
   "cell_type": "code",
   "execution_count": 2,
   "metadata": {},
   "outputs": [],
   "source": [
    "from pyspark.sql import SparkSession\n",
    "from pyspark.sql.functions import *"
   ]
  },
  {
   "cell_type": "markdown",
   "metadata": {},
   "source": [
    "# Create SparkSession"
   ]
  },
  {
   "cell_type": "code",
   "execution_count": 3,
   "metadata": {},
   "outputs": [],
   "source": [
    "spark = SparkSession.builder.appName(\"DataFrame\").getOrCreate()"
   ]
  },
  {
   "cell_type": "code",
   "execution_count": 4,
   "metadata": {},
   "outputs": [],
   "source": [
    "# Create a DataFrame\n",
    "emp = [(1, \"Smith\", \"Finance\", 1000),\n",
    "        (2, \"Rose\", \"Marketing\", 2000),\n",
    "        (3, \"Williams\", \"Marketing\", 1000),\n",
    "        (4, \"Jones\", \"Sales\", 2000),\n",
    "        (5, \"Brown\", \"Sales\", 1000),\n",
    "        (6, \"Katie\", \"Finance\", 2000),\n",
    "        (7, \"Linda\", \"IT\", 2000),\n",
    "        (8, \"Michael\", \"IT\", 1000),\n",
    "        (9, \"Johnson\", \"Marketing\", 1000),\n",
    "        (10, \"Tom\", \"Finance\", 2000)]\n",
    "\n",
    "dept = [(\"Finance\", \"fi\"),\n",
    "        (\"Marketing\", \"ma\"),\n",
    "        (\"Sales\", \"sa\"),\n",
    "        (\"Computer Science\", \"cs\")]\n",
    "df = spark.createDataFrame(emp, [\"emp_id\", \"name\", \"dept\", \"salary\"])\n",
    "\n",
    "deptdf = spark.createDataFrame(dept, [\"name\", \"dept_id\"])"
   ]
  },
  {
   "cell_type": "code",
   "execution_count": 5,
   "metadata": {},
   "outputs": [
    {
     "name": "stdout",
     "output_type": "stream",
     "text": [
      "+------+--------+---------+------+\n",
      "|emp_id|    name|     dept|salary|\n",
      "+------+--------+---------+------+\n",
      "|     1|   Smith|  Finance|  1000|\n",
      "|     2|    Rose|Marketing|  2000|\n",
      "|     3|Williams|Marketing|  1000|\n",
      "|     4|   Jones|    Sales|  2000|\n",
      "|     5|   Brown|    Sales|  1000|\n",
      "|     6|   Katie|  Finance|  2000|\n",
      "|     7|   Linda|       IT|  2000|\n",
      "|     8| Michael|       IT|  1000|\n",
      "|     9| Johnson|Marketing|  1000|\n",
      "|    10|     Tom|  Finance|  2000|\n",
      "+------+--------+---------+------+\n",
      "\n"
     ]
    }
   ],
   "source": [
    "df.show()"
   ]
  },
  {
   "cell_type": "code",
   "execution_count": 6,
   "metadata": {},
   "outputs": [
    {
     "name": "stdout",
     "output_type": "stream",
     "text": [
      "+----------------+-------+\n",
      "|            name|dept_id|\n",
      "+----------------+-------+\n",
      "|         Finance|     fi|\n",
      "|       Marketing|     ma|\n",
      "|           Sales|     sa|\n",
      "|Computer Science|     cs|\n",
      "+----------------+-------+\n",
      "\n"
     ]
    }
   ],
   "source": [
    "deptdf.show()"
   ]
  },
  {
   "cell_type": "markdown",
   "metadata": {},
   "source": [
    "# Basic Operations on DataFrame"
   ]
  },
  {
   "cell_type": "code",
   "execution_count": 7,
   "metadata": {},
   "outputs": [
    {
     "data": {
      "text/plain": [
       "10"
      ]
     },
     "execution_count": 7,
     "metadata": {},
     "output_type": "execute_result"
    }
   ],
   "source": [
    "# Count\n",
    "df.count()"
   ]
  },
  {
   "cell_type": "code",
   "execution_count": 8,
   "metadata": {},
   "outputs": [
    {
     "data": {
      "text/plain": [
       "['emp_id', 'name', 'dept', 'salary']"
      ]
     },
     "execution_count": 8,
     "metadata": {},
     "output_type": "execute_result"
    }
   ],
   "source": [
    "# Columns\n",
    "df.columns"
   ]
  },
  {
   "cell_type": "code",
   "execution_count": 9,
   "metadata": {},
   "outputs": [
    {
     "data": {
      "text/plain": [
       "[('emp_id', 'bigint'),\n",
       " ('name', 'string'),\n",
       " ('dept', 'string'),\n",
       " ('salary', 'bigint')]"
      ]
     },
     "execution_count": 9,
     "metadata": {},
     "output_type": "execute_result"
    }
   ],
   "source": [
    "# Dtypes\n",
    "df.dtypes"
   ]
  },
  {
   "cell_type": "code",
   "execution_count": 10,
   "metadata": {},
   "outputs": [
    {
     "data": {
      "text/plain": [
       "StructType([StructField('emp_id', LongType(), True), StructField('name', StringType(), True), StructField('dept', StringType(), True), StructField('salary', LongType(), True)])"
      ]
     },
     "execution_count": 10,
     "metadata": {},
     "output_type": "execute_result"
    }
   ],
   "source": [
    "# Scheme: how Spark stores schema of the dataframe (column name, datatype, nullable?)\n",
    "df.schema"
   ]
  },
  {
   "cell_type": "code",
   "execution_count": 11,
   "metadata": {},
   "outputs": [
    {
     "name": "stdout",
     "output_type": "stream",
     "text": [
      "root\n",
      " |-- emp_id: long (nullable = true)\n",
      " |-- name: string (nullable = true)\n",
      " |-- dept: string (nullable = true)\n",
      " |-- salary: long (nullable = true)\n",
      "\n"
     ]
    }
   ],
   "source": [
    "# print schema\n",
    "df.printSchema()"
   ]
  },
  {
   "cell_type": "code",
   "execution_count": 12,
   "metadata": {},
   "outputs": [
    {
     "name": "stdout",
     "output_type": "stream",
     "text": [
      "+--------+---------+\n",
      "|    name|     dept|\n",
      "+--------+---------+\n",
      "|   Smith|  Finance|\n",
      "|    Rose|Marketing|\n",
      "|Williams|Marketing|\n",
      "|   Jones|    Sales|\n",
      "|   Brown|    Sales|\n",
      "|   Katie|  Finance|\n",
      "|   Linda|       IT|\n",
      "| Michael|       IT|\n",
      "| Johnson|Marketing|\n",
      "|     Tom|  Finance|\n",
      "+--------+---------+\n",
      "\n"
     ]
    }
   ],
   "source": [
    "# Select column from df\n",
    "df.select(\"name\",\"dept\").show()"
   ]
  },
  {
   "cell_type": "code",
   "execution_count": 13,
   "metadata": {},
   "outputs": [
    {
     "name": "stdout",
     "output_type": "stream",
     "text": [
      "+------+-----+-----+------+\n",
      "|emp_id| name| dept|salary|\n",
      "+------+-----+-----+------+\n",
      "|     4|Jones|Sales|  2000|\n",
      "|     5|Brown|Sales|  1000|\n",
      "+------+-----+-----+------+\n",
      "\n",
      "+------+----+---------+------+\n",
      "|emp_id|name|     dept|salary|\n",
      "+------+----+---------+------+\n",
      "|     2|Rose|Marketing|  2000|\n",
      "+------+----+---------+------+\n",
      "\n"
     ]
    }
   ],
   "source": [
    "# Filter\n",
    "df.filter(df[\"dept\"]==\"Sales\").show()\n",
    "df.filter(df[\"emp_id\"]==2).show()"
   ]
  },
  {
   "cell_type": "code",
   "execution_count": 14,
   "metadata": {},
   "outputs": [
    {
     "name": "stdout",
     "output_type": "stream",
     "text": [
      "+------+--------+---------+\n",
      "|emp_id|    name|     dept|\n",
      "+------+--------+---------+\n",
      "|     1|   Smith|  Finance|\n",
      "|     2|    Rose|Marketing|\n",
      "|     3|Williams|Marketing|\n",
      "|     4|   Jones|    Sales|\n",
      "|     5|   Brown|    Sales|\n",
      "|     6|   Katie|  Finance|\n",
      "|     7|   Linda|       IT|\n",
      "|     8| Michael|       IT|\n",
      "|     9| Johnson|Marketing|\n",
      "|    10|     Tom|  Finance|\n",
      "+------+--------+---------+\n",
      "\n"
     ]
    }
   ],
   "source": [
    "# Drop a column\n",
    "dropped = df.drop(\"salary\")\n",
    "dropped.show()"
   ]
  },
  {
   "cell_type": "code",
   "execution_count": 15,
   "metadata": {},
   "outputs": [
    {
     "name": "stdout",
     "output_type": "stream",
     "text": [
      "+------+--------+---------+------+\n",
      "|emp_id|    name|     dept|salary|\n",
      "+------+--------+---------+------+\n",
      "|     1|   Smith|  Finance|  1000|\n",
      "|     2|    Rose|Marketing|  2000|\n",
      "|     3|Williams|Marketing|  1000|\n",
      "|     4|   Jones|    Sales|  2000|\n",
      "|     5|   Brown|    Sales|  1000|\n",
      "|     6|   Katie|  Finance|  2000|\n",
      "|     7|   Linda|       IT|  2000|\n",
      "|     8| Michael|       IT|  1000|\n",
      "|     9| Johnson|Marketing|  1000|\n",
      "|    10|     Tom|  Finance|  2000|\n",
      "+------+--------+---------+------+\n",
      "\n"
     ]
    }
   ],
   "source": [
    "df.show()"
   ]
  },
  {
   "cell_type": "code",
   "execution_count": 16,
   "metadata": {},
   "outputs": [
    {
     "name": "stdout",
     "output_type": "stream",
     "text": [
      "+---------+-----+----+------------------+----+----+\n",
      "|     dept|count| sum|               avg| max| min|\n",
      "+---------+-----+----+------------------+----+----+\n",
      "|  Finance|    3|5000|1666.6666666666667|2000|1000|\n",
      "|Marketing|    3|4000|1333.3333333333333|2000|1000|\n",
      "|    Sales|    2|3000|            1500.0|2000|1000|\n",
      "|       IT|    2|3000|            1500.0|2000|1000|\n",
      "+---------+-----+----+------------------+----+----+\n",
      "\n"
     ]
    }
   ],
   "source": [
    "# Aggregation \n",
    "# use groupbBy function to group data and then \"agg\" function to perform data aggregation\n",
    "(df.groupBy(\"dept\")\n",
    " .agg(count(\"salary\").alias(\"count\"),\n",
    "        sum(\"salary\").alias(\"sum\"),\n",
    "        avg(\"salary\").alias(\"avg\"),\n",
    "        max(\"salary\").alias(\"max\"),\n",
    "        min(\"salary\").alias(\"min\"))\n",
    "    .show()\n",
    ")"
   ]
  },
  {
   "cell_type": "code",
   "execution_count": 17,
   "metadata": {},
   "outputs": [
    {
     "name": "stdout",
     "output_type": "stream",
     "text": [
      "+------+-----+---------+------+\n",
      "|emp_id| name|     dept|salary|\n",
      "+------+-----+---------+------+\n",
      "|     2| Rose|Marketing|  2000|\n",
      "|     4|Jones|    Sales|  2000|\n",
      "|     6|Katie|  Finance|  2000|\n",
      "|     7|Linda|       IT|  2000|\n",
      "|    10|  Tom|  Finance|  2000|\n",
      "+------+-----+---------+------+\n",
      "only showing top 5 rows\n",
      "\n"
     ]
    }
   ],
   "source": [
    "# Sort\n",
    "df.sort(desc(\"salary\"),asc(\"emp_id\")).show(5)"
   ]
  },
  {
   "cell_type": "code",
   "execution_count": 18,
   "metadata": {},
   "outputs": [
    {
     "name": "stdout",
     "output_type": "stream",
     "text": [
      "+------+--------+---------+------+-----+\n",
      "|emp_id|    name|     dept|salary|bonus|\n",
      "+------+--------+---------+------+-----+\n",
      "|     1|   Smith|  Finance|  1000|200.0|\n",
      "|     2|    Rose|Marketing|  2000|400.0|\n",
      "|     3|Williams|Marketing|  1000|200.0|\n",
      "|     4|   Jones|    Sales|  2000|400.0|\n",
      "|     5|   Brown|    Sales|  1000|200.0|\n",
      "|     6|   Katie|  Finance|  2000|400.0|\n",
      "|     7|   Linda|       IT|  2000|400.0|\n",
      "|     8| Michael|       IT|  1000|200.0|\n",
      "|     9| Johnson|Marketing|  1000|200.0|\n",
      "|    10|     Tom|  Finance|  2000|400.0|\n",
      "+------+--------+---------+------+-----+\n",
      "\n"
     ]
    }
   ],
   "source": [
    "# Derived Columns: use withColumn func to create new column based on existing column\n",
    "df.withColumn(\"bonus\", col(\"salary\")*.2).show()"
   ]
  },
  {
   "cell_type": "code",
   "execution_count": 19,
   "metadata": {},
   "outputs": [
    {
     "name": "stdout",
     "output_type": "stream",
     "text": [
      "+----------------+-------+\n",
      "|            name|dept_id|\n",
      "+----------------+-------+\n",
      "|         Finance|     fi|\n",
      "|       Marketing|     ma|\n",
      "|           Sales|     sa|\n",
      "|Computer Science|     cs|\n",
      "+----------------+-------+\n",
      "\n"
     ]
    }
   ],
   "source": [
    "deptdf.show()"
   ]
  },
  {
   "cell_type": "code",
   "execution_count": 20,
   "metadata": {},
   "outputs": [
    {
     "name": "stdout",
     "output_type": "stream",
     "text": [
      "+------+--------+---------+------+\n",
      "|emp_id|    name|     dept|salary|\n",
      "+------+--------+---------+------+\n",
      "|     1|   Smith|  Finance|  1000|\n",
      "|     2|    Rose|Marketing|  2000|\n",
      "|     3|Williams|Marketing|  1000|\n",
      "|     4|   Jones|    Sales|  2000|\n",
      "|     5|   Brown|    Sales|  1000|\n",
      "|     6|   Katie|  Finance|  2000|\n",
      "|     7|   Linda|       IT|  2000|\n",
      "|     8| Michael|       IT|  1000|\n",
      "|     9| Johnson|Marketing|  1000|\n",
      "|    10|     Tom|  Finance|  2000|\n",
      "+------+--------+---------+------+\n",
      "\n"
     ]
    }
   ],
   "source": [
    "df.show()"
   ]
  },
  {
   "cell_type": "markdown",
   "metadata": {},
   "source": [
    "## JOIN"
   ]
  },
  {
   "cell_type": "code",
   "execution_count": 21,
   "metadata": {},
   "outputs": [
    {
     "name": "stdout",
     "output_type": "stream",
     "text": [
      "+------+--------+---------+------+---------+-------+\n",
      "|emp_id|    name|     dept|salary|     name|dept_id|\n",
      "+------+--------+---------+------+---------+-------+\n",
      "|     1|   Smith|  Finance|  1000|  Finance|     fi|\n",
      "|     6|   Katie|  Finance|  2000|  Finance|     fi|\n",
      "|    10|     Tom|  Finance|  2000|  Finance|     fi|\n",
      "|     2|    Rose|Marketing|  2000|Marketing|     ma|\n",
      "|     3|Williams|Marketing|  1000|Marketing|     ma|\n",
      "|     9| Johnson|Marketing|  1000|Marketing|     ma|\n",
      "|     4|   Jones|    Sales|  2000|    Sales|     sa|\n",
      "|     5|   Brown|    Sales|  1000|    Sales|     sa|\n",
      "+------+--------+---------+------+---------+-------+\n",
      "\n"
     ]
    }
   ],
   "source": [
    "# INNER JOIN\n",
    "df.join(deptdf, df.dept == deptdf.name).show()"
   ]
  },
  {
   "cell_type": "code",
   "execution_count": 22,
   "metadata": {},
   "outputs": [
    {
     "name": "stdout",
     "output_type": "stream",
     "text": [
      "+------+--------+---------+------+---------+-------+\n",
      "|emp_id|    name|     dept|salary|     name|dept_id|\n",
      "+------+--------+---------+------+---------+-------+\n",
      "|     1|   Smith|  Finance|  1000|  Finance|     fi|\n",
      "|     2|    Rose|Marketing|  2000|Marketing|     ma|\n",
      "|     3|Williams|Marketing|  1000|Marketing|     ma|\n",
      "|     4|   Jones|    Sales|  2000|    Sales|     sa|\n",
      "|     5|   Brown|    Sales|  1000|    Sales|     sa|\n",
      "|     6|   Katie|  Finance|  2000|  Finance|     fi|\n",
      "|     7|   Linda|       IT|  2000|     NULL|   NULL|\n",
      "|     8| Michael|       IT|  1000|     NULL|   NULL|\n",
      "|    10|     Tom|  Finance|  2000|  Finance|     fi|\n",
      "|     9| Johnson|Marketing|  1000|Marketing|     ma|\n",
      "+------+--------+---------+------+---------+-------+\n",
      "\n"
     ]
    }
   ],
   "source": [
    "# LEFT OUTER JOIN\n",
    "df.join(deptdf, df.dept == deptdf.name, \"left_outer\").show()"
   ]
  },
  {
   "cell_type": "code",
   "execution_count": 23,
   "metadata": {},
   "outputs": [
    {
     "name": "stdout",
     "output_type": "stream",
     "text": [
      "+------+--------+---------+------+----------------+-------+\n",
      "|emp_id|    name|     dept|salary|            name|dept_id|\n",
      "+------+--------+---------+------+----------------+-------+\n",
      "|    10|     Tom|  Finance|  2000|         Finance|     fi|\n",
      "|     6|   Katie|  Finance|  2000|         Finance|     fi|\n",
      "|     1|   Smith|  Finance|  1000|         Finance|     fi|\n",
      "|     9| Johnson|Marketing|  1000|       Marketing|     ma|\n",
      "|     3|Williams|Marketing|  1000|       Marketing|     ma|\n",
      "|     2|    Rose|Marketing|  2000|       Marketing|     ma|\n",
      "|     5|   Brown|    Sales|  1000|           Sales|     sa|\n",
      "|     4|   Jones|    Sales|  2000|           Sales|     sa|\n",
      "|  NULL|    NULL|     NULL|  NULL|Computer Science|     cs|\n",
      "+------+--------+---------+------+----------------+-------+\n",
      "\n"
     ]
    }
   ],
   "source": [
    "# RIGHT OUTER JOIN\n",
    "df.join(deptdf, df.dept == deptdf.name, \"right_outer\").show()"
   ]
  },
  {
   "cell_type": "code",
   "execution_count": 24,
   "metadata": {},
   "outputs": [
    {
     "name": "stdout",
     "output_type": "stream",
     "text": [
      "+------+--------+---------+------+----------------+-------+\n",
      "|emp_id|    name|     dept|salary|            name|dept_id|\n",
      "+------+--------+---------+------+----------------+-------+\n",
      "|  NULL|    NULL|     NULL|  NULL|Computer Science|     cs|\n",
      "|     1|   Smith|  Finance|  1000|         Finance|     fi|\n",
      "|     6|   Katie|  Finance|  2000|         Finance|     fi|\n",
      "|    10|     Tom|  Finance|  2000|         Finance|     fi|\n",
      "|     7|   Linda|       IT|  2000|            NULL|   NULL|\n",
      "|     8| Michael|       IT|  1000|            NULL|   NULL|\n",
      "|     2|    Rose|Marketing|  2000|       Marketing|     ma|\n",
      "|     3|Williams|Marketing|  1000|       Marketing|     ma|\n",
      "|     9| Johnson|Marketing|  1000|       Marketing|     ma|\n",
      "|     4|   Jones|    Sales|  2000|           Sales|     sa|\n",
      "|     5|   Brown|    Sales|  1000|           Sales|     sa|\n",
      "+------+--------+---------+------+----------------+-------+\n",
      "\n"
     ]
    }
   ],
   "source": [
    "# FULL OUTER JOIN\n",
    "df.join(deptdf, df.dept == deptdf.name, \"full_outer\").show()"
   ]
  },
  {
   "cell_type": "markdown",
   "metadata": {},
   "source": [
    "## SQL Queries\n",
    "To perform SQL-like queries,need to register DataFrame as a temporary View with \"createOrReplaceTempView\""
   ]
  },
  {
   "cell_type": "code",
   "execution_count": 25,
   "metadata": {},
   "outputs": [
    {
     "name": "stdout",
     "output_type": "stream",
     "text": [
      "+------+-----+-----+------+\n",
      "|emp_id| name| dept|salary|\n",
      "+------+-----+-----+------+\n",
      "|     5|Brown|Sales|  1000|\n",
      "+------+-----+-----+------+\n",
      "\n"
     ]
    }
   ],
   "source": [
    "# Register Dataframe as Temp Table\n",
    "df.createOrReplaceTempView(\"employee\")\n",
    "\n",
    "# Run SQL Query\n",
    "spark.sql(\"select * from employee where name =\\\"Brown\\\"\").show()"
   ]
  },
  {
   "cell_type": "code",
   "execution_count": 26,
   "metadata": {},
   "outputs": [
    {
     "name": "stdout",
     "output_type": "stream",
     "text": [
      "+------+\n",
      "|emp_id|\n",
      "+------+\n",
      "|     1|\n",
      "|     2|\n",
      "|     3|\n",
      "|     5|\n",
      "|     4|\n",
      "|     6|\n",
      "|     7|\n",
      "|     8|\n",
      "|     9|\n",
      "|    10|\n",
      "+------+\n",
      "\n"
     ]
    }
   ],
   "source": [
    "spark.sql(\"select distinct emp_id from employee\").show()"
   ]
  },
  {
   "cell_type": "code",
   "execution_count": 27,
   "metadata": {},
   "outputs": [
    {
     "name": "stdout",
     "output_type": "stream",
     "text": [
      "+------+--------+------+\n",
      "|emp_id|    name|salary|\n",
      "+------+--------+------+\n",
      "|    10|     Tom|  2000|\n",
      "|     2|    Rose|  2000|\n",
      "|     4|   Jones|  2000|\n",
      "|     7|   Linda|  2000|\n",
      "|     6|   Katie|  2000|\n",
      "|     3|Williams|  1000|\n",
      "|     5|   Brown|  1000|\n",
      "|     8| Michael|  1000|\n",
      "|     1|   Smith|  1000|\n",
      "|     9| Johnson|  1000|\n",
      "+------+--------+------+\n",
      "\n"
     ]
    }
   ],
   "source": [
    "spark.sql(\"select \\\n",
    "          emp_id, name, salary from employee \\\n",
    "          order by salary desc\")\\\n",
    "        .show()"
   ]
  },
  {
   "cell_type": "code",
   "execution_count": null,
   "metadata": {},
   "outputs": [],
   "source": []
  },
  {
   "cell_type": "markdown",
   "metadata": {},
   "source": [
    "## Read HIVE Table as Dataframe"
   ]
  },
  {
   "cell_type": "code",
   "execution_count": 39,
   "metadata": {},
   "outputs": [],
   "source": [
    "df = spark.table(\"employee\")"
   ]
  },
  {
   "cell_type": "code",
   "execution_count": 40,
   "metadata": {},
   "outputs": [
    {
     "name": "stdout",
     "output_type": "stream",
     "text": [
      "+------+--------+---------+------+\n",
      "|emp_id|    name|     dept|salary|\n",
      "+------+--------+---------+------+\n",
      "|     1|   Smith|  Finance|  1000|\n",
      "|     2|    Rose|Marketing|  2000|\n",
      "|     3|Williams|Marketing|  1000|\n",
      "|     4|   Jones|    Sales|  2000|\n",
      "|     5|   Brown|    Sales|  1000|\n",
      "|     6|   Katie|  Finance|  2000|\n",
      "|     7|   Linda|       IT|  2000|\n",
      "|     8| Michael|       IT|  1000|\n",
      "|     9| Johnson|Marketing|  1000|\n",
      "|    10|     Tom|  Finance|  2000|\n",
      "+------+--------+---------+------+\n",
      "\n"
     ]
    }
   ],
   "source": [
    "df.show()"
   ]
  },
  {
   "cell_type": "markdown",
   "metadata": {},
   "source": [
    "## Create dataframe from CSV"
   ]
  },
  {
   "cell_type": "code",
   "execution_count": 45,
   "metadata": {},
   "outputs": [],
   "source": [
    "df = spark.read.csv(\"D:/Data_Engineering/Apache_Spark/data/stocks_price_final.csv\", sep = \",\", header = True, inferSchema = True)"
   ]
  },
  {
   "cell_type": "code",
   "execution_count": 47,
   "metadata": {},
   "outputs": [
    {
     "name": "stdout",
     "output_type": "stream",
     "text": [
      "+---+------+----------+---------+---------+---------+---------+-------+---------+----------+-------------+--------------------+--------+\n",
      "|_c0|symbol|      date|     open|     high|      low|    close| volume| adjusted|market.cap|       sector|            industry|exchange|\n",
      "+---+------+----------+---------+---------+---------+---------+-------+---------+----------+-------------+--------------------+--------+\n",
      "|  1|   TXG|2019-09-12|       54|       58|       51|    52.75|7326300|    52.75|    $9.31B|Capital Goods|Biotechnology: La...|  NASDAQ|\n",
      "|  2|   TXG|2019-09-13|    52.75|   54.355|49.150002|    52.27|1025200|    52.27|    $9.31B|Capital Goods|Biotechnology: La...|  NASDAQ|\n",
      "|  3|   TXG|2019-09-16|52.450001|       56|52.009998|55.200001| 269900|55.200001|    $9.31B|Capital Goods|Biotechnology: La...|  NASDAQ|\n",
      "|  4|   TXG|2019-09-17|56.209999|60.900002|   55.423|56.779999| 602800|56.779999|    $9.31B|Capital Goods|Biotechnology: La...|  NASDAQ|\n",
      "|  5|   TXG|2019-09-18|56.849998|    62.27|55.650002|       62|1589600|       62|    $9.31B|Capital Goods|Biotechnology: La...|  NASDAQ|\n",
      "|  6|   TXG|2019-09-19|62.810001|   63.375|61.029999|61.119999| 425200|61.119999|    $9.31B|Capital Goods|Biotechnology: La...|  NASDAQ|\n",
      "|  7|   TXG|2019-09-20|61.709999|62.419998|    59.82|     60.5| 392000|     60.5|    $9.31B|Capital Goods|Biotechnology: La...|  NASDAQ|\n",
      "|  8|   TXG|2019-09-23|60.220001|61.485001|59.939999|60.330002| 137200|60.330002|    $9.31B|Capital Goods|Biotechnology: La...|  NASDAQ|\n",
      "|  9|   TXG|2019-09-24|       61|       61|       54|54.299999| 713800|54.299999|    $9.31B|Capital Goods|Biotechnology: La...|  NASDAQ|\n",
      "| 10|   TXG|2019-09-25|54.459999|55.880001|   52.563|52.759998| 261200|52.759998|    $9.31B|Capital Goods|Biotechnology: La...|  NASDAQ|\n",
      "| 11|   TXG|2019-09-26|52.779999|53.689999|46.619999|49.990002| 596300|49.990002|    $9.31B|Capital Goods|Biotechnology: La...|  NASDAQ|\n",
      "| 12|   TXG|2019-09-27|51.130001|       55|50.700001|51.029999| 621300|51.029999|    $9.31B|Capital Goods|Biotechnology: La...|  NASDAQ|\n",
      "| 13|   TXG|2019-09-30|51.049999|       52|    49.25|50.400002| 168900|50.400002|    $9.31B|Capital Goods|Biotechnology: La...|  NASDAQ|\n",
      "| 14|   TXG|2019-10-01|50.509998|51.919998|       46|47.029999| 536300|47.029999|    $9.31B|Capital Goods|Biotechnology: La...|  NASDAQ|\n",
      "| 15|   TXG|2019-10-02|46.779999|    47.23|45.110001|    46.07| 519600|    46.07|    $9.31B|Capital Goods|Biotechnology: La...|  NASDAQ|\n",
      "| 16|   TXG|2019-10-03|    46.77|48.240002|    45.75|48.119999| 703900|48.119999|    $9.31B|Capital Goods|Biotechnology: La...|  NASDAQ|\n",
      "| 17|   TXG|2019-10-04|       48|    53.34|    47.82|51.450001| 322400|51.450001|    $9.31B|Capital Goods|Biotechnology: La...|  NASDAQ|\n",
      "| 18|   TXG|2019-10-07|52.099998|53.220001|49.029999|50.360001| 476600|50.360001|    $9.31B|Capital Goods|Biotechnology: La...|  NASDAQ|\n",
      "| 19|   TXG|2019-10-08|       50|    51.27|       49|49.549999| 284100|49.549999|    $9.31B|Capital Goods|Biotechnology: La...|  NASDAQ|\n",
      "| 20|   TXG|2019-10-09|49.630001|51.525002|49.575001|50.009998| 201100|50.009998|    $9.31B|Capital Goods|Biotechnology: La...|  NASDAQ|\n",
      "+---+------+----------+---------+---------+---------+---------+-------+---------+----------+-------------+--------------------+--------+\n",
      "only showing top 20 rows\n",
      "\n"
     ]
    }
   ],
   "source": [
    "df.show()"
   ]
  },
  {
   "cell_type": "code",
   "execution_count": null,
   "metadata": {},
   "outputs": [],
   "source": []
  }
 ],
 "metadata": {
  "kernelspec": {
   "display_name": "Python 3",
   "language": "python",
   "name": "python3"
  },
  "language_info": {
   "codemirror_mode": {
    "name": "ipython",
    "version": 3
   },
   "file_extension": ".py",
   "mimetype": "text/x-python",
   "name": "python",
   "nbconvert_exporter": "python",
   "pygments_lexer": "ipython3",
   "version": "3.9.0"
  }
 },
 "nbformat": 4,
 "nbformat_minor": 2
}
