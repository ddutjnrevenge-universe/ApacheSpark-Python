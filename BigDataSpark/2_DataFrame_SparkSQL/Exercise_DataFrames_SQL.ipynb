{
  "cells": [
    {
      "cell_type": "markdown",
      "id": "e2c6ce4e",
      "metadata": {
        "id": "e2c6ce4e"
      },
      "source": [
        "# DataFrames and Spark SQL applied exercise"
      ]
    },
    {
      "cell_type": "code",
      "execution_count": 1,
      "id": "6444aae7",
      "metadata": {
        "id": "6444aae7"
      },
      "outputs": [],
      "source": [
        "import findspark\n",
        "findspark.init()\n",
        "\n",
        "import pandas as pd\n",
        "import pyspark"
      ]
    },
    {
      "cell_type": "code",
      "execution_count": 2,
      "id": "2a099cd1",
      "metadata": {
        "id": "2a099cd1"
      },
      "outputs": [],
      "source": [
        "from pyspark.sql import SparkSession\n",
        "\n",
        "spark = SparkSession.builder\\\n",
        "        .master(\"local[*]\")\\\n",
        "        .appName('PySpark_Df')\\\n",
        "        .getOrCreate()"
      ]
    },
    {
      "cell_type": "code",
      "execution_count": 5,
      "id": "652d0228",
      "metadata": {
        "id": "652d0228"
      },
      "outputs": [
        {
          "name": "stdout",
          "output_type": "stream",
          "text": [
            "+-------+-------+-------------+-------------------+-------+------------+-----------------+--------+---------+\n",
            "|RoundID|MatchID|Team Initials|         Coach Name|Line-up|Shirt Number|      Player Name|Position|    Event|\n",
            "+-------+-------+-------------+-------------------+-------+------------+-----------------+--------+---------+\n",
            "|    201|   1096|          FRA|CAUDRON Raoul (FRA)|      S|           0|      Alex THEPOT|      GK|     NULL|\n",
            "|    201|   1096|          MEX|   LUQUE Juan (MEX)|      S|           0|  Oscar BONFIGLIO|      GK|     NULL|\n",
            "|    201|   1096|          FRA|CAUDRON Raoul (FRA)|      S|           0| Marcel LANGILLER|    NULL|     G40'|\n",
            "|    201|   1096|          MEX|   LUQUE Juan (MEX)|      S|           0|     Juan CARRENO|    NULL|     G70'|\n",
            "|    201|   1096|          FRA|CAUDRON Raoul (FRA)|      S|           0|  Ernest LIBERATI|    NULL|     NULL|\n",
            "|    201|   1096|          MEX|   LUQUE Juan (MEX)|      S|           0|     Rafael GARZA|       C|     NULL|\n",
            "|    201|   1096|          FRA|CAUDRON Raoul (FRA)|      S|           0|  Andre MASCHINOT|    NULL|G43' G87'|\n",
            "|    201|   1096|          MEX|   LUQUE Juan (MEX)|      S|           0|    Hilario LOPEZ|    NULL|     NULL|\n",
            "|    201|   1096|          FRA|CAUDRON Raoul (FRA)|      S|           0|  Etienne MATTLER|    NULL|     NULL|\n",
            "|    201|   1096|          MEX|   LUQUE Juan (MEX)|      S|           0|   Dionisio MEJIA|    NULL|     NULL|\n",
            "|    201|   1096|          FRA|CAUDRON Raoul (FRA)|      S|           0|     Marcel PINEL|    NULL|     NULL|\n",
            "|    201|   1096|          MEX|   LUQUE Juan (MEX)|      S|           0|     Felipe ROSAS|    NULL|     NULL|\n",
            "|    201|   1096|          FRA|CAUDRON Raoul (FRA)|      S|           0|  Alex VILLAPLANE|       C|     NULL|\n",
            "|    201|   1096|          MEX|   LUQUE Juan (MEX)|      S|           0|     Manuel ROSAS|    NULL|     NULL|\n",
            "|    201|   1096|          FRA|CAUDRON Raoul (FRA)|      S|           0|   Lucien LAURENT|    NULL|     G19'|\n",
            "|    201|   1096|          MEX|   LUQUE Juan (MEX)|      S|           0|        Jose RUIZ|    NULL|     NULL|\n",
            "|    201|   1096|          FRA|CAUDRON Raoul (FRA)|      S|           0|   Marcel CAPELLE|    NULL|     NULL|\n",
            "|    201|   1096|          MEX|   LUQUE Juan (MEX)|      S|           0|  Alfredo SANCHEZ|    NULL|     NULL|\n",
            "|    201|   1096|          FRA|CAUDRON Raoul (FRA)|      S|           0|Augustin CHANTREL|    NULL|     NULL|\n",
            "|    201|   1096|          MEX|   LUQUE Juan (MEX)|      S|           0|   Efrain AMEZCUA|    NULL|     NULL|\n",
            "+-------+-------+-------------+-------------------+-------+------------+-----------------+--------+---------+\n",
            "only showing top 20 rows\n",
            "\n"
          ]
        }
      ],
      "source": [
        "## Import the csv of \"data/WorldCupPlayers.csv\"\n",
        "## Visualize the data\n",
        "df = spark.read.csv(\"D:/Data_Engineering/Apache_Spark/data/WorldCupPlayers.csv\", sep=\",\", header=True)\n",
        "df.show()"
      ]
    },
    {
      "cell_type": "code",
      "execution_count": 6,
      "id": "74516118",
      "metadata": {
        "id": "74516118"
      },
      "outputs": [
        {
          "name": "stdout",
          "output_type": "stream",
          "text": [
            "root\n",
            " |-- RoundID: string (nullable = true)\n",
            " |-- MatchID: string (nullable = true)\n",
            " |-- Team Initials: string (nullable = true)\n",
            " |-- Coach Name: string (nullable = true)\n",
            " |-- Line-up: string (nullable = true)\n",
            " |-- Shirt Number: string (nullable = true)\n",
            " |-- Player Name: string (nullable = true)\n",
            " |-- Position: string (nullable = true)\n",
            " |-- Event: string (nullable = true)\n",
            "\n"
          ]
        }
      ],
      "source": [
        "## What type of data does each variable contain?\n",
        "df.printSchema()"
      ]
    },
    {
      "cell_type": "code",
      "execution_count": 32,
      "id": "99225729",
      "metadata": {},
      "outputs": [
        {
          "name": "stdout",
          "output_type": "stream",
          "text": [
            "root\n",
            " |-- RoundID: string (nullable = true)\n",
            " |-- MatchID: integer (nullable = true)\n",
            " |-- Team Initials: string (nullable = true)\n",
            " |-- Coach Name: string (nullable = true)\n",
            " |-- Line-up: string (nullable = true)\n",
            " |-- Shirt Number: string (nullable = true)\n",
            " |-- Player Name: string (nullable = true)\n",
            " |-- Position: string (nullable = true)\n",
            " |-- Event: string (nullable = true)\n",
            "\n"
          ]
        }
      ],
      "source": [
        "# change data type of matchid\n",
        "from pyspark.sql.types import IntegerType\n",
        "df = df.withColumn(\"MatchID\", df[\"MatchID\"].cast(IntegerType()))\n",
        "df.printSchema()"
      ]
    },
    {
      "cell_type": "code",
      "execution_count": 7,
      "id": "58248b51",
      "metadata": {
        "id": "58248b51"
      },
      "outputs": [
        {
          "data": {
            "text/plain": [
              "37784"
            ]
          },
          "execution_count": 7,
          "metadata": {},
          "output_type": "execute_result"
        }
      ],
      "source": [
        "## How many records are there?\n",
        "df.count()"
      ]
    },
    {
      "cell_type": "code",
      "execution_count": 9,
      "id": "514be43a",
      "metadata": {
        "id": "514be43a"
      },
      "outputs": [
        {
          "name": "stdout",
          "output_type": "stream",
          "text": [
            "+--------+-----+\n",
            "|Position|count|\n",
            "+--------+-----+\n",
            "|    NULL|33641|\n",
            "|      GK| 2441|\n",
            "|       C| 1510|\n",
            "|     GKC|  192|\n",
            "+--------+-----+\n",
            "\n"
          ]
        }
      ],
      "source": [
        "## Get the main statistics of Position\n",
        "df.groupBy(\"Position\").count().show()"
      ]
    },
    {
      "cell_type": "code",
      "execution_count": 10,
      "id": "c2b86748",
      "metadata": {
        "id": "c2b86748"
      },
      "outputs": [
        {
          "name": "stdout",
          "output_type": "stream",
          "text": [
            "+-------+-------+-------------+-------+------------+--------+---------+\n",
            "|RoundID|MatchID|Team Initials|Line-up|Shirt Number|Position|    Event|\n",
            "+-------+-------+-------------+-------+------------+--------+---------+\n",
            "|    201|   1096|          FRA|      S|           0|      GK|     NULL|\n",
            "|    201|   1096|          MEX|      S|           0|      GK|     NULL|\n",
            "|    201|   1096|          FRA|      S|           0|    NULL|     G40'|\n",
            "|    201|   1096|          MEX|      S|           0|    NULL|     G70'|\n",
            "|    201|   1096|          FRA|      S|           0|    NULL|     NULL|\n",
            "|    201|   1096|          MEX|      S|           0|       C|     NULL|\n",
            "|    201|   1096|          FRA|      S|           0|    NULL|G43' G87'|\n",
            "|    201|   1096|          MEX|      S|           0|    NULL|     NULL|\n",
            "|    201|   1096|          FRA|      S|           0|    NULL|     NULL|\n",
            "|    201|   1096|          MEX|      S|           0|    NULL|     NULL|\n",
            "|    201|   1096|          FRA|      S|           0|    NULL|     NULL|\n",
            "|    201|   1096|          MEX|      S|           0|    NULL|     NULL|\n",
            "|    201|   1096|          FRA|      S|           0|       C|     NULL|\n",
            "|    201|   1096|          MEX|      S|           0|    NULL|     NULL|\n",
            "|    201|   1096|          FRA|      S|           0|    NULL|     G19'|\n",
            "|    201|   1096|          MEX|      S|           0|    NULL|     NULL|\n",
            "|    201|   1096|          FRA|      S|           0|    NULL|     NULL|\n",
            "|    201|   1096|          MEX|      S|           0|    NULL|     NULL|\n",
            "|    201|   1096|          FRA|      S|           0|    NULL|     NULL|\n",
            "|    201|   1096|          MEX|      S|           0|    NULL|     NULL|\n",
            "+-------+-------+-------------+-------+------------+--------+---------+\n",
            "only showing top 20 rows\n",
            "\n"
          ]
        }
      ],
      "source": [
        "## Select and display records, ommiting 'Player Name' and'Coach Name'\n",
        "df.select([col for col in df.columns if col not in ['Player Name', 'Coach Name']]).show()"
      ]
    },
    {
      "cell_type": "code",
      "execution_count": 13,
      "id": "74d787f0",
      "metadata": {
        "id": "74d787f0"
      },
      "outputs": [
        {
          "data": {
            "text/plain": [
              "33"
            ]
          },
          "execution_count": 13,
          "metadata": {},
          "output_type": "execute_result"
        }
      ],
      "source": [
        "## How many matches have been played with the ID of 1096?\n",
        "df.filter(df.MatchID == 1096).count()"
      ]
    },
    {
      "cell_type": "code",
      "execution_count": 15,
      "id": "a4d33331",
      "metadata": {
        "id": "a4d33331"
      },
      "outputs": [
        {
          "name": "stdout",
          "output_type": "stream",
          "text": [
            "+-------+-------+-------------+--------------------+-------+------------+----------------+--------+-----+\n",
            "|RoundID|MatchID|Team Initials|          Coach Name|Line-up|Shirt Number|     Player Name|Position|Event|\n",
            "+-------+-------+-------------+--------------------+-------+------------+----------------+--------+-----+\n",
            "|    201|   1089|          PAR|DURAND LAGUNA Jos...|      S|           0|Luis VARGAS PENA|       C| G40'|\n",
            "|    429|   1175|          HUN|  DIETZ Karoly (HUN)|      S|           0|   Gyorgy SAROSI|       C| G40'|\n",
            "+-------+-------+-------------+--------------------+-------+------------+----------------+--------+-----+\n",
            "\n"
          ]
        }
      ],
      "source": [
        "## Show the data where the position has been C and the event is G40\n",
        "df.filter((df.Position == 'C') & (df.Event == 'G40\\'')).show()"
      ]
    },
    {
      "cell_type": "code",
      "execution_count": 33,
      "id": "eddb88e7",
      "metadata": {},
      "outputs": [
        {
          "name": "stdout",
          "output_type": "stream",
          "text": [
            "+-------+---------+-------------+--------------------+-------+------------+-----------+--------+-----+\n",
            "|RoundID|  MatchID|Team Initials|          Coach Name|Line-up|Shirt Number|Player Name|Position|Event|\n",
            "+-------+---------+-------------+--------------------+-------+------------+-----------+--------+-----+\n",
            "| 255931|300186515|          ECU|RUEDA Reinaldo (COL)|      S|          22|  DOMINGUEZ|      GK| NULL|\n",
            "| 255931|300186515|          ECU|RUEDA Reinaldo (COL)|      S|          16|A. VALENCIA|       C| R50'|\n",
            "| 255931|300186515|          FRA|DESCHAMPS Didier ...|      S|           1|     LLORIS|     GKC| NULL|\n",
            "| 255931|300186515|          ECU|RUEDA Reinaldo (COL)|      S|           2|     GUAGUA|    NULL| NULL|\n",
            "| 255931|300186515|          FRA|DESCHAMPS Didier ...|      S|           5|      SAKHO|    NULL| O61'|\n",
            "| 255931|300186515|          ECU|RUEDA Reinaldo (COL)|      S|           3|      ERAZO|    NULL| Y83'|\n",
            "| 255931|300186515|          FRA|DESCHAMPS Didier ...|      S|          10|    BENZEMA|    NULL| NULL|\n",
            "| 255931|300186515|          ECU|RUEDA Reinaldo (COL)|      S|           4|    PAREDES|    NULL| NULL|\n",
            "| 255931|300186515|          FRA|DESCHAMPS Didier ...|      S|          11|  GRIEZMANN|    NULL| O79'|\n",
            "| 255931|300186515|          ECU|RUEDA Reinaldo (COL)|      S|           6|      NOBOA|    NULL| O89'|\n",
            "| 255931|300186515|          FRA|DESCHAMPS Didier ...|      S|          14|    MATUIDI|    NULL| O67'|\n",
            "| 255931|300186515|          ECU|RUEDA Reinaldo (COL)|      S|           7|    MONTERO|    NULL| O63'|\n",
            "| 255931|300186515|          FRA|DESCHAMPS Didier ...|      S|          15|      SAGNA|    NULL| NULL|\n",
            "| 255931|300186515|          ECU|RUEDA Reinaldo (COL)|      S|          10|   W. AYOVI|    NULL| NULL|\n",
            "| 255931|300186515|          FRA|DESCHAMPS Didier ...|      S|          17|      DIGNE|    NULL| NULL|\n",
            "| 255931|300186515|          ECU|RUEDA Reinaldo (COL)|      S|          13|E. VALENCIA|    NULL| NULL|\n",
            "| 255931|300186515|          FRA|DESCHAMPS Didier ...|      S|          18|    SISSOKO|    NULL| NULL|\n",
            "| 255931|300186515|          ECU|RUEDA Reinaldo (COL)|      S|          14|      MINDA|    NULL| NULL|\n",
            "| 255931|300186515|          FRA|DESCHAMPS Didier ...|      S|          19|      POGBA|    NULL| NULL|\n",
            "| 255931|300186515|          ECU|RUEDA Reinaldo (COL)|      S|          15|     ARROYO|    NULL| O82'|\n",
            "+-------+---------+-------------+--------------------+-------+------------+-----------+--------+-----+\n",
            "only showing top 20 rows\n",
            "\n"
          ]
        }
      ],
      "source": [
        "# order dataframe by matchid ascending\n",
        "df.orderBy(df.MatchID.desc()).show()"
      ]
    },
    {
      "cell_type": "code",
      "execution_count": 38,
      "id": "f4a2c096",
      "metadata": {
        "id": "f4a2c096"
      },
      "outputs": [
        {
          "data": {
            "text/plain": [
              "20166"
            ]
          },
          "execution_count": 38,
          "metadata": {},
          "output_type": "execute_result"
        }
      ],
      "source": [
        "## Use Spark SQL to display records where the MatchID is greater or equal to 20\n",
        "df.createOrReplaceTempView(\"df\")\n",
        "# min_match_id = spark.sql(\"SELECT min(MatchID) FROM df\").collect()[0][0]\n",
        "# min_match_id\n",
        "spark.sql(\"SELECT * FROM df WHERE MatchID >= 2000\" ).count()\n",
        "\n"
      ]
    },
    {
      "cell_type": "code",
      "execution_count": null,
      "id": "fa84761c",
      "metadata": {
        "id": "fa84761c"
      },
      "outputs": [],
      "source": []
    }
  ],
  "metadata": {
    "colab": {
      "provenance": []
    },
    "kernelspec": {
      "display_name": "Python 3 (ipykernel)",
      "language": "python",
      "name": "python3"
    },
    "language_info": {
      "codemirror_mode": {
        "name": "ipython",
        "version": 3
      },
      "file_extension": ".py",
      "mimetype": "text/x-python",
      "name": "python",
      "nbconvert_exporter": "python",
      "pygments_lexer": "ipython3",
      "version": "3.9.0"
    }
  },
  "nbformat": 4,
  "nbformat_minor": 5
}
