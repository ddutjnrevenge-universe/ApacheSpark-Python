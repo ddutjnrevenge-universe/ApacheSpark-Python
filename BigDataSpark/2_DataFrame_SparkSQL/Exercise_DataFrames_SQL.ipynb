{
  "cells": [
    {
      "cell_type": "markdown",
      "id": "e2c6ce4e",
      "metadata": {
        "id": "e2c6ce4e"
      },
      "source": [
        "# DataFrames and Spark SQL applied exercise"
      ]
    },
    {
      "cell_type": "code",
      "execution_count": null,
      "id": "6444aae7",
      "metadata": {
        "id": "6444aae7"
      },
      "outputs": [],
      "source": [
        "import findspark\n",
        "findspark.init()\n",
        "\n",
        "import pandas as pd\n",
        "import pyspark"
      ]
    },
    {
      "cell_type": "code",
      "execution_count": null,
      "id": "2a099cd1",
      "metadata": {
        "id": "2a099cd1"
      },
      "outputs": [],
      "source": [
        "from pyspark.sql import SparkSession\n",
        "\n",
        "spark = SparkSession.builder\\\n",
        "        .master(\"local[*]\")\\\n",
        "        .appName('PySpark_Df')\\\n",
        "        .getOrCreate()"
      ]
    },
    {
      "cell_type": "code",
      "execution_count": null,
      "id": "652d0228",
      "metadata": {
        "id": "652d0228"
      },
      "outputs": [],
      "source": [
        "## Import the csv of \"data/WorldCupPlayers.csv\"\n",
        "## Visualize the data"
      ]
    },
    {
      "cell_type": "code",
      "execution_count": null,
      "id": "74516118",
      "metadata": {
        "id": "74516118"
      },
      "outputs": [],
      "source": [
        "## What type of data does each variable contain?"
      ]
    },
    {
      "cell_type": "code",
      "execution_count": null,
      "id": "58248b51",
      "metadata": {
        "id": "58248b51"
      },
      "outputs": [],
      "source": [
        "## How many records are there?"
      ]
    },
    {
      "cell_type": "code",
      "execution_count": null,
      "id": "514be43a",
      "metadata": {
        "id": "514be43a"
      },
      "outputs": [],
      "source": [
        "## Get the main statistics of Position"
      ]
    },
    {
      "cell_type": "code",
      "execution_count": null,
      "id": "c2b86748",
      "metadata": {
        "id": "c2b86748"
      },
      "outputs": [],
      "source": [
        "## Select and display records, ommiting 'Player Name' and'Coach Name'"
      ]
    },
    {
      "cell_type": "code",
      "execution_count": null,
      "id": "74d787f0",
      "metadata": {
        "id": "74d787f0"
      },
      "outputs": [],
      "source": [
        "## How many matches have been played with the ID of 1096?"
      ]
    },
    {
      "cell_type": "code",
      "execution_count": null,
      "id": "a4d33331",
      "metadata": {
        "id": "a4d33331"
      },
      "outputs": [],
      "source": [
        "## Show the data where the position has been C and the event is G40"
      ]
    },
    {
      "cell_type": "code",
      "execution_count": null,
      "id": "f4a2c096",
      "metadata": {
        "id": "f4a2c096"
      },
      "outputs": [],
      "source": [
        "## Use Spark SQL to display records where the MatchID is greater or equal to 20\n"
      ]
    },
    {
      "cell_type": "code",
      "execution_count": null,
      "id": "fa84761c",
      "metadata": {
        "id": "fa84761c"
      },
      "outputs": [],
      "source": []
    }
  ],
  "metadata": {
    "kernelspec": {
      "display_name": "Python 3 (ipykernel)",
      "language": "python",
      "name": "python3"
    },
    "language_info": {
      "codemirror_mode": {
        "name": "ipython",
        "version": 3
      },
      "file_extension": ".py",
      "mimetype": "text/x-python",
      "name": "python",
      "nbconvert_exporter": "python",
      "pygments_lexer": "ipython3",
      "version": "3.8.12"
    },
    "colab": {
      "provenance": []
    }
  },
  "nbformat": 4,
  "nbformat_minor": 5
}