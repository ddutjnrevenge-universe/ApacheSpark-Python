{
  "cells": [
    {
      "cell_type": "markdown",
      "id": "22bc4d93",
      "metadata": {
        "id": "22bc4d93"
      },
      "source": [
        "# RDD Practical Exercise"
      ]
    },
    {
      "cell_type": "code",
      "execution_count": 1,
      "id": "c1a214d6",
      "metadata": {
        "id": "c1a214d6"
      },
      "outputs": [],
      "source": [
        "import findspark\n",
        "findspark.init()\n",
        "\n",
        "import pandas as pd\n",
        "import pyspark\n",
        "from pyspark.sql import SparkSession"
      ]
    },
    {
      "cell_type": "code",
      "execution_count": 2,
      "id": "bd8b0d7c",
      "metadata": {
        "id": "bd8b0d7c"
      },
      "outputs": [],
      "source": [
        "spark = SparkSession.builder.getOrCreate()\n",
        "sc = spark.sparkContext"
      ]
    },
    {
      "cell_type": "code",
      "execution_count": 3,
      "id": "1479e36b",
      "metadata": {
        "id": "1479e36b"
      },
      "outputs": [],
      "source": [
        "data= [1, 2, 3, 4, 5]\n",
        "myRDD= sc.parallelize(data)"
      ]
    },
    {
      "cell_type": "code",
      "execution_count": 4,
      "id": "9bc25ae9",
      "metadata": {
        "id": "9bc25ae9"
      },
      "outputs": [],
      "source": [
        "newRDD= myRDD.map(lambda x: x*2)"
      ]
    },
    {
      "cell_type": "code",
      "execution_count": 5,
      "id": "a047081a",
      "metadata": {
        "id": "a047081a"
      },
      "outputs": [],
      "source": [
        "data= [1, 2, 3, 4, 5, 6]\n",
        "\n",
        "myRDD= sc.parallelize(data)\n",
        "\n",
        "newRDD= myRDD.filter(lambda x: x%2 == 0)"
      ]
    },
    {
      "cell_type": "code",
      "execution_count": 6,
      "id": "aeb368f0",
      "metadata": {
        "id": "aeb368f0"
      },
      "outputs": [
        {
          "data": {
            "text/plain": [
              "[1, 2, 3, 4, 5, 6]"
            ]
          },
          "execution_count": 6,
          "metadata": {},
          "output_type": "execute_result"
        }
      ],
      "source": [
        "## Show the unique elements of the RDD\n",
        "myRDD.distinct().collect()"
      ]
    },
    {
      "cell_type": "code",
      "execution_count": 8,
      "id": "787c7986",
      "metadata": {
        "id": "787c7986"
      },
      "outputs": [
        {
          "data": {
            "text/plain": [
              "[('a', 6), ('b', 1)]"
            ]
          },
          "execution_count": 8,
          "metadata": {},
          "output_type": "execute_result"
        }
      ],
      "source": [
        "from operator import add\n",
        "\n",
        "myRDD = sc.parallelize([('a', 1), ('a', 2), ('a', 3), ('b', 1)])\n",
        "\n",
        "## Get the sum of the values ​​grouped by the key\n",
        "myRDD.reduceByKey(add).collect()"
      ]
    },
    {
      "cell_type": "code",
      "execution_count": 9,
      "id": "5133d6f2",
      "metadata": {
        "id": "5133d6f2"
      },
      "outputs": [
        {
          "data": {
            "text/plain": [
              "[('a', 1), ('a', 2), ('a', 3), ('b', 1)]"
            ]
          },
          "execution_count": 9,
          "metadata": {},
          "output_type": "execute_result"
        }
      ],
      "source": [
        "## Sort RDDs based on key\n",
        "myRDD.sortByKey().collect()"
      ]
    },
    {
      "cell_type": "code",
      "execution_count": 10,
      "id": "bfe2d705",
      "metadata": {
        "id": "bfe2d705"
      },
      "outputs": [
        {
          "data": {
            "text/plain": [
              "120"
            ]
          },
          "execution_count": 10,
          "metadata": {},
          "output_type": "execute_result"
        }
      ],
      "source": [
        "data= [1, 2, 3, 4, 5]\n",
        "\n",
        "myRDD= sc.parallelize(data)\n",
        "## Take the elements of the RDD to multiply them together and obtain a result\n",
        "myRDD.reduce(lambda x, y: x*y)"
      ]
    },
    {
      "cell_type": "code",
      "execution_count": 11,
      "id": "b6139be0",
      "metadata": {
        "id": "b6139be0"
      },
      "outputs": [
        {
          "data": {
            "text/plain": [
              "defaultdict(int, {'Python': 3, 'Scala': 1, 'R': 2, 'Java': 1})"
            ]
          },
          "execution_count": 11,
          "metadata": {},
          "output_type": "execute_result"
        }
      ],
      "source": [
        "data= ['Python', 'Scala', 'Python', 'R', 'Python', 'Java', 'R' ]\n",
        "\n",
        "myRDD= sc.parallelize(data)\n",
        "\n",
        "## Count how many times each value appears\n",
        "myRDD.countByValue()"
      ]
    },
    {
      "cell_type": "code",
      "execution_count": 12,
      "id": "633f7716",
      "metadata": {
        "id": "633f7716"
      },
      "outputs": [
        {
          "data": {
            "text/plain": [
              "defaultdict(int, {'a': 2, 'b': 1, 'c': 1})"
            ]
          },
          "execution_count": 12,
          "metadata": {},
          "output_type": "execute_result"
        }
      ],
      "source": [
        "data= [('a', 1), ('b', 1), ('c', 1), ('a', 1)]\n",
        "myRDD = sc.parallelize(data)\n",
        "\n",
        "## Count how many times each of the keys appears\n",
        "myRDD.countByKey()"
      ]
    }
  ],
  "metadata": {
    "colab": {
      "provenance": []
    },
    "kernelspec": {
      "display_name": "Python 3 (ipykernel)",
      "language": "python",
      "name": "python3"
    },
    "language_info": {
      "codemirror_mode": {
        "name": "ipython",
        "version": 3
      },
      "file_extension": ".py",
      "mimetype": "text/x-python",
      "name": "python",
      "nbconvert_exporter": "python",
      "pygments_lexer": "ipython3",
      "version": "3.9.0"
    }
  },
  "nbformat": 4,
  "nbformat_minor": 5
}
