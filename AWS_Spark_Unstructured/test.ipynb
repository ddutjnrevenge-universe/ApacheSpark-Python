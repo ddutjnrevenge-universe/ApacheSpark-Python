{
 "cells": [
  {
   "cell_type": "code",
   "execution_count": 38,
   "metadata": {},
   "outputs": [
    {
     "name": "stdout",
     "output_type": "stream",
     "text": [
      "Cleaned text has been saved to F:\\Data_Engineering\\Apache_Spark\\AWS_Spark_Unstructured\\input\\input_text\\ACCOUNTING CLERK 1223 071318_cleaned.txt\n"
     ]
    }
   ],
   "source": [
    "# Step 1: Read the byte string from the file\n",
    "input_file_path = 'F:\\\\Data_Engineering\\\\Apache_Spark\\\\AWS_Spark_Unstructured\\\\input\\\\input_text\\\\ACCOUNTING CLERK 1223 071318.txt'\n",
    "output_file_path = 'F:\\\\Data_Engineering\\\\Apache_Spark\\\\AWS_Spark_Unstructured\\\\input\\\\input_text\\\\ACCOUNTING CLERK 1223 071318_cleaned.txt'\n",
    "\n",
    "with open(input_file_path, mode='r') as file:\n",
    "    byte_data = file.read()\n",
    "\n",
    "text = byte_data[2:-1]\n",
    "text = text.replace('\\\\n', '\\n')\n",
    "text = text.replace('\\\\t', '\\t')\n",
    "text = text.replace('\\\\r', '')\n",
    "# text = text.replace('\\\\\\\\', '\\\\')\n",
    "# text = text.replace(r'\\\\\\\\', '\\\\')\n",
    "# text = text.replace('\\\\\"', '\\\"')\n",
    "# text = text.replace(\"\\\\'\", \"\\'\")\n",
    "\n",
    "with open(output_file_path, 'w', encoding='utf-8') as file:\n",
    "    file.write(text)\n",
    "\n",
    "print(f\"Cleaned text has been saved to {output_file_path}\")"
   ]
  },
  {
   "cell_type": "code",
   "execution_count": null,
   "metadata": {},
   "outputs": [],
   "source": []
  }
 ],
 "metadata": {
  "kernelspec": {
   "display_name": "Python 3",
   "language": "python",
   "name": "python3"
  },
  "language_info": {
   "codemirror_mode": {
    "name": "ipython",
    "version": 3
   },
   "file_extension": ".py",
   "mimetype": "text/x-python",
   "name": "python",
   "nbconvert_exporter": "python",
   "pygments_lexer": "ipython3",
   "version": "3.9.0"
  }
 },
 "nbformat": 4,
 "nbformat_minor": 2
}
