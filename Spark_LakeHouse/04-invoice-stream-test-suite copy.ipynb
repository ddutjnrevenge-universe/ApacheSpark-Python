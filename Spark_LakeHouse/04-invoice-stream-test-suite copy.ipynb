{
 "cells": [
  {
   "cell_type": "code",
   "execution_count": 1,
   "metadata": {},
   "outputs": [],
   "source": [
    "%run ./03-invoice-stream.ipynb"
   ]
  },
  {
   "cell_type": "code",
   "execution_count": 2,
   "metadata": {},
   "outputs": [],
   "source": [
    "import findspark\n",
    "findspark.init()"
   ]
  },
  {
   "cell_type": "code",
   "execution_count": 3,
   "metadata": {},
   "outputs": [],
   "source": [
    "import shutil\n",
    "import os\n",
    "import time\n",
    "from pyspark.sql import SparkSession"
   ]
  },
  {
   "cell_type": "code",
   "execution_count": 20,
   "metadata": {},
   "outputs": [],
   "source": [
    "from delta import *"
   ]
  },
  {
   "cell_type": "code",
   "execution_count": 4,
   "metadata": {},
   "outputs": [],
   "source": [
    "spark = SparkSession.builder \\\n",
    "    .appName(\"InvoiceStreamApp\").getOrCreate()\n",
    "#     .config(\"spark.jars.packages\", \"io.delta:delta-core_2.12:2.1.0\") \\\n",
    "#     .config(\"spark.sql.extensions\", \"io.delta.sql.DeltaSparkSessionExtension\") \\\n",
    "#     .config(\"spark.sql.catalog.spark_catalog\", \"org.apache.spark.sql.delta.catalog.DeltaCatalog\") \\\n"
   ]
  },
  {
   "cell_type": "code",
   "execution_count": 5,
   "metadata": {},
   "outputs": [],
   "source": [
    "class invoiceStreamTestSuite():\n",
    "    def __init__(self):\n",
    "        self.base_data_dir = \"data/invoices\"\n",
    "\n",
    "    def cleanTests(self):\n",
    "        print(f\"Starting Cleanup...\", end='')\n",
    "        # Memory table cleanup is not required as it is temporary and will be reset on application restart\n",
    "\n",
    "        # Remove files and directories\n",
    "        if os.path.exists(f\"{self.base_data_dir}/checkpoint\"):\n",
    "            shutil.rmtree(f\"{self.base_data_dir}/checkpoint\")\n",
    "        if os.path.exists(f\"{self.base_data_dir}/results/invoices\"):\n",
    "            shutil.rmtree(f\"{self.base_data_dir}/results/invoices\")\n",
    "\n",
    "        os.makedirs(f\"{self.base_data_dir}/results/invoices\")\n",
    "        print(\"Done\\n\")\n",
    "\n",
    "    def ingestData(self, itr):\n",
    "        print(f\"\\tStarting Ingestion...\", end='')\n",
    "        shutil.copy(f\"{self.base_data_dir}/invoices-{itr}.json\", f\"{self.base_data_dir}/results/invoices/invoices-{itr}.json\")\n",
    "        print(\"Done\")\n",
    "\n",
    "    def assertResult(self, expected_count):\n",
    "        print(f\"\\tStarting validation...\", end='')\n",
    "        actual_count = spark.sql(\"select count(*) from invoice_line_items\").collect()[0][0]\n",
    "        print(f\"Expected count: {expected_count},\\n Actual count: {actual_count}\")\n",
    "        assert expected_count == actual_count, f\"Test failed! actual count is {actual_count}\"\n",
    "        print(\"Done\")\n",
    "\n",
    "    def waitForMicroBatch(self, sleep=30):\n",
    "        print(f\"\\tWaiting for {sleep} seconds...\", end='')\n",
    "        time.sleep(sleep)\n",
    "        print(\"Done.\")\n",
    "\n",
    "    def runTests(self):\n",
    "        self.cleanTests()\n",
    "        iStream = invoiceStream()\n",
    "        streamQuery = iStream.process()\n",
    "\n",
    "        print(\"Testing first iteration of invoice stream...\") \n",
    "        self.ingestData(1)\n",
    "        self.waitForMicroBatch()        \n",
    "        self.assertResult(1253)\n",
    "        print(\"Validation passed.\\n\")\n",
    "\n",
    "        print(\"Testing second iteration of invoice stream...\") \n",
    "        self.ingestData(2)\n",
    "        self.waitForMicroBatch()\n",
    "        self.assertResult(2510)\n",
    "        print(\"Validation passed.\\n\") \n",
    "\n",
    "        print(\"Testing third iteration of invoice stream...\") \n",
    "        self.ingestData(3)\n",
    "        self.waitForMicroBatch()\n",
    "        self.assertResult(3994)\n",
    "        print(\"Validation passed.\\n\")\n",
    "\n",
    "        streamQuery.stop()"
   ]
  },
  {
   "cell_type": "code",
   "execution_count": 6,
   "metadata": {},
   "outputs": [
    {
     "name": "stdout",
     "output_type": "stream",
     "text": [
      "Starting Cleanup...Done\n",
      "\n",
      "Starting Invoice Processing Stream...Done.\n",
      "\n",
      "Testing first iteration of invoice stream...\n",
      "\tStarting Ingestion...Done\n",
      "\tWaiting for 30 seconds...Done.\n",
      "\tStarting validation...Expected count: 1253,\n",
      " Actual count: 1253\n",
      "Done\n",
      "Validation passed.\n",
      "\n",
      "Testing second iteration of invoice stream...\n",
      "\tStarting Ingestion...Done\n",
      "\tWaiting for 30 seconds...Done.\n",
      "\tStarting validation...Expected count: 2510,\n",
      " Actual count: 2510\n",
      "Done\n",
      "Validation passed.\n",
      "\n",
      "Testing third iteration of invoice stream...\n",
      "\tStarting Ingestion...Done\n",
      "\tWaiting for 30 seconds...Done.\n",
      "\tStarting validation...Expected count: 3994,\n",
      " Actual count: 3994\n",
      "Done\n",
      "Validation passed.\n",
      "\n"
     ]
    }
   ],
   "source": [
    "\n",
    "# # COMMAND ----------\n",
    "\n",
    "isTS = invoiceStreamTestSuite()\n",
    "isTS.runTests()\t"
   ]
  }
 ],
 "metadata": {
  "kernelspec": {
   "display_name": "Python 3",
   "language": "python",
   "name": "python3"
  },
  "language_info": {
   "codemirror_mode": {
    "name": "ipython",
    "version": 3
   },
   "file_extension": ".py",
   "mimetype": "text/x-python",
   "name": "python",
   "nbconvert_exporter": "python",
   "pygments_lexer": "ipython3",
   "version": "3.9.0"
  }
 },
 "nbformat": 4,
 "nbformat_minor": 2
}
