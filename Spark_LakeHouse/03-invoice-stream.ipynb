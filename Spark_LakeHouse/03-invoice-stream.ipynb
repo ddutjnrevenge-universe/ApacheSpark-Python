{
 "cells": [
  {
   "cell_type": "code",
   "execution_count": 1,
   "metadata": {},
   "outputs": [],
   "source": [
    "import findspark\n",
    "findspark.init()"
   ]
  },
  {
   "cell_type": "code",
   "execution_count": null,
   "metadata": {},
   "outputs": [],
   "source": [
    "class invoiceStream():\n",
    "    def __init__(self):\n",
    "        self.base_data_dir = \"data/invoices\"\n",
    "\n",
    "    def getSchema(self):\n",
    "        return \"\"\"InvoiceNumber string, CreatedTime bigint, StoreID string, PosID string, CashierID string,\n",
    "                CustomerType string, CustomerCardNo string, TotalAmount double, NumberOfItems bigint, \n",
    "                PaymentMethod string, TaxableAmount double, CGST double, SGST double, CESS double, \n",
    "                DeliveryType string,\n",
    "                DeliveryAddress struct<AddressLine string, City string, ContactNumber string, PinCode string, \n",
    "                State string>,\n",
    "                InvoiceLineItems array<struct<ItemCode string, ItemDescription string, \n",
    "                    ItemPrice double, ItemQty bigint, TotalValue double>>\n",
    "            \"\"\"\n",
    "    \n",
    "    def readInvoice(self):\n",
    "        return (spark.readStream\n",
    "                    .format(self.getSchema())\n",
    "                    .schema(self.getSchema())\n",
    "                    .load(f\"{self.base_data_dir}/results/invoices\")\n",
    "                )\n",
    "    \n",
    "    def explodeInvoices(self, invoiceDF):\n",
    "        return ( invoiceDF.selectExpr(\"InvoiceNumber\", \"CreatedTime\", \"StoreID\", \"PosID\",\n",
    "                                      \"CustomerType\", \"PaymentMethhod\", \"DeliveryType\", \"DeliveryAddress.City\",\n",
    "                                      \"DeliveryAddress.State\", \"DeliveryAddress.PinCode\",\n",
    "                                      \"explode(InvoiceLineItems) as LineItem\")\n",
    "                )\n",
    "    \n",
    "    def flattenInvoices(self, explodeDF):\n",
    "        from pyspark.sql.functions import expr\n",
    "        return ( exploreDF.withColumn(\"ItemCode\", expr(\"LineItem.ItemCode\"))\n",
    "                        .withColumn(\"ItemDescription\", expr(\"LineItem.ItemDescription\"))\n",
    "                        .withColumn(\"ItemPrice\", expr(\"LineItem.ItemPrice\"))\n",
    "                        .withColumn(\"ItemQty\", expr(\"LineItem.ItemQty\"))\n",
    "                        .withColumn(\"TotalValue\", expr(\"LineItem.TotalValue\"))\n",
    "                        .drop(\"LineItem\")\n",
    "                )\n",
    "    \n",
    "    def appendInvoices(self, flattenedDF):\n",
    "        return ( flattenedDF.writeStream\n",
    "                            .format(\"\").)"
   ]
  }
 ],
 "metadata": {
  "kernelspec": {
   "display_name": "Python 3",
   "language": "python",
   "name": "python3"
  },
  "language_info": {
   "codemirror_mode": {
    "name": "ipython",
    "version": 3
   },
   "file_extension": ".py",
   "mimetype": "text/x-python",
   "name": "python",
   "nbconvert_exporter": "python",
   "pygments_lexer": "ipython3",
   "version": "3.10.9"
  }
 },
 "nbformat": 4,
 "nbformat_minor": 2
}
