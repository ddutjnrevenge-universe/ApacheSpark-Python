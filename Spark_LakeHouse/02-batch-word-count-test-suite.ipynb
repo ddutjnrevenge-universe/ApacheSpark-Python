{
 "cells": [
  {
   "cell_type": "code",
   "execution_count": 1,
   "metadata": {},
   "outputs": [],
   "source": [
    "%run 01-batch-word-count.ipynb"
   ]
  },
  {
   "cell_type": "code",
   "execution_count": 2,
   "metadata": {},
   "outputs": [],
   "source": [
    "import findspark\n",
    "findspark.init()"
   ]
  },
  {
   "cell_type": "code",
   "execution_count": 3,
   "metadata": {},
   "outputs": [],
   "source": [
    "# Define the batch word count test suite class\n",
    "import shutil\n",
    "import os\n",
    "from pyspark.sql import SparkSession\n",
    "spark = SparkSession.builder.appName(\"batchWC\").getOrCreate()\n",
    "\n",
    "base_data_dir = \"data/text\"\n",
    "\n",
    "class batchWCTestSuite():\n",
    "    def __init__(self):\n",
    "        self.base_data_dir = base_data_dir\n",
    "\n",
    "    def cleanTests(self):\n",
    "        # Drop table if exists\n",
    "        spark.sql(\"drop table if exists word_count_table\")\n",
    "\n",
    "        # Remove files and directories\n",
    "        if os.path.exists(f\"{self.base_data_dir}/checkpoint\"):\n",
    "            shutil.rmtree(f\"{self.base_data_dir}/checkpoint\")\n",
    "        if os.path.exists(f\"{self.base_data_dir}/data/text\"):\n",
    "            shutil.rmtree(f\"{self.base_data_dir}/data/text\")\n",
    "\n",
    "        os.makedirs(f\"{self.base_data_dir}/data/text\")\n",
    "        print(\"Done\\n\")\n",
    "\n",
    "    def ingestData(self, itr):\n",
    "        print(f\"\\tStarting Ingestion...\", end='')\n",
    "        shutil.copy(f\"{self.base_data_dir}/text_data_{itr}.txt\", f\"{self.base_data_dir}/data/text/text_data_{itr}.txt\")\n",
    "        print(\"Done\")\n",
    "\n",
    "\n",
    "    def assertResult(self, expected_count):\n",
    "        print(f\"\\tStarting validation...\", end='')\n",
    "        actual_count = spark.sql(\"select sum(count) from word_count_table where substr(word, 1, 1) == 's'\").collect()[0][0]\n",
    "        print(expected_count)\n",
    "        print(actual_count)\n",
    "        assert expected_count == int(actual_count), f\"Test failed! actual count is {actual_count}\"\n",
    "        print(\"Done\")\n",
    "\n",
    "    def runTests(self):\n",
    "        self.cleanTests()\n",
    "        wc = batchWC()\n",
    "\n",
    "        print(\"Testing first iteration of batch word count...\") \n",
    "        self.ingestData(1)\n",
    "        wc.wordCount()\n",
    "        self.assertResult(25)\n",
    "        print(\"First iteration of batch word count completed.\\n\")\n",
    "\n",
    "        print(\"Testing second iteration of batch word count...\") \n",
    "        self.ingestData(2)\n",
    "        wc.wordCount()\n",
    "        self.assertResult(32)\n",
    "        print(\"Second iteration of batch word count completed.\\n\") \n",
    "\n",
    "        print(\"Testing third iteration of batch word count...\") \n",
    "        self.ingestData(3)\n",
    "        wc.wordCount()\n",
    "        self.assertResult(37)\n",
    "        print(\"Third iteration of batch word count completed.\\n\")"
   ]
  },
  {
   "cell_type": "code",
   "execution_count": 4,
   "metadata": {},
   "outputs": [
    {
     "name": "stdout",
     "output_type": "stream",
     "text": [
      "Done\n",
      "\n",
      "Testing first iteration of batch word count...\n",
      "\tStarting Ingestion...Done\n",
      "\tExecuting Word Count...Done\n",
      "\tStarting validation...25\n",
      "25\n",
      "Done\n",
      "First iteration of batch word count completed.\n",
      "\n",
      "Testing second iteration of batch word count...\n",
      "\tStarting Ingestion...Done\n",
      "\tExecuting Word Count...Done\n",
      "\tStarting validation...32\n",
      "32\n",
      "Done\n",
      "Second iteration of batch word count completed.\n",
      "\n",
      "Testing third iteration of batch word count...\n",
      "\tStarting Ingestion...Done\n",
      "\tExecuting Word Count...Done\n",
      "\tStarting validation...37\n",
      "37\n",
      "Done\n",
      "Third iteration of batch word count completed.\n",
      "\n"
     ]
    }
   ],
   "source": [
    "bt = batchWCTestSuite()\n",
    "bt.runTests()"
   ]
  }
 ],
 "metadata": {
  "application/vnd.databricks.v1+notebook": {
   "dashboards": [],
   "environmentMetadata": null,
   "language": "python",
   "notebookMetadata": {
    "pythonIndentUnit": 4
   },
   "notebookName": "02-word-count-test-suite",
   "widgets": {}
  },
  "kernelspec": {
   "display_name": "Python 3",
   "language": "python",
   "name": "python3"
  },
  "language_info": {
   "codemirror_mode": {
    "name": "ipython",
    "version": 3
   },
   "file_extension": ".py",
   "mimetype": "text/x-python",
   "name": "python",
   "nbconvert_exporter": "python",
   "pygments_lexer": "ipython3",
   "version": "3.9.0"
  }
 },
 "nbformat": 4,
 "nbformat_minor": 0
}
