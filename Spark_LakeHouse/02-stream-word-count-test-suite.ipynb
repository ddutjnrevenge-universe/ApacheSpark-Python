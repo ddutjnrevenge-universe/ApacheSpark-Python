{
 "cells": [
  {
   "cell_type": "code",
   "execution_count": null,
   "metadata": {
    "application/vnd.databricks.v1+cell": {
     "cellMetadata": {
      "byteLimit": 2048000,
      "rowLimit": 10000
     },
     "inputWidgets": {},
     "nuid": "b6bdfaf9-3c35-4151-bd2b-7db1c3993668",
     "showTitle": false,
     "title": ""
    }
   },
   "outputs": [],
   "source": [
    "# # cleanup and setup\n",
    "\n",
    "# base_data_dir = \"/FileStore/data_spark_streaming\"\n",
    "\n",
    "# spark.sql(\"drop table if exists word_count_table\")\n",
    "\n",
    "# dbutils.fs.rm(\"/user/hive/warehouse/word_count_table\", True)\n",
    "\n",
    "# dbutils.fs.rm(f\"{base_data_dir}/checkpoint\", True)\n",
    "# dbutils.fs.rm(f\"{base_data_dir}/data/text\", True)\n",
    "\n",
    "# dbutils.fs.mkdirs(f\"{base_data_dir}/data/text\")\n"
   ]
  },
  {
   "cell_type": "code",
   "execution_count": null,
   "metadata": {
    "application/vnd.databricks.v1+cell": {
     "cellMetadata": {
      "byteLimit": 2048000,
      "rowLimit": 10000
     },
     "inputWidgets": {},
     "nuid": "65ba7ab1-0429-49f5-b86a-95178013d6bb",
     "showTitle": false,
     "title": ""
    }
   },
   "outputs": [],
   "source": [
    "%run ./01-stream-word-count"
   ]
  },
  {
   "cell_type": "code",
   "execution_count": 1,
   "metadata": {},
   "outputs": [],
   "source": [
    "import findspark\n",
    "findspark.init()"
   ]
  },
  {
   "cell_type": "code",
   "execution_count": null,
   "metadata": {
    "application/vnd.databricks.v1+cell": {
     "cellMetadata": {
      "byteLimit": 2048000,
      "rowLimit": 10000
     },
     "inputWidgets": {},
     "nuid": "53176c9a-cfec-4747-a566-86de931b63cc",
     "showTitle": false,
     "title": ""
    }
   },
   "outputs": [],
   "source": [
    "class streamWCTestSuite():\n",
    "    def __init__(self):\n",
    "        self.base_data_dir = \"/FileStore/data_spark_streaming\"\n",
    "\n",
    "    def cleanTests(self):\n",
    "        print(f\"Starting Cleanup...\", end='')\n",
    "        spark.sql(\"drop table if exists word_count_table\")\n",
    "        dbutils.fs.rm(\"/user/hive/warehouse/word_count_table\", True)\n",
    "\n",
    "        dbutils.fs.rm(f\"{self.base_data_dir}/checkpoint\", True)\n",
    "        dbutils.fs.rm(f\"{self.base_data_dir}/data/text\", True)\n",
    "\n",
    "        dbutils.fs.mkdirs(f\"{self.base_data_dir}/data/text\")\n",
    "        print(\"Done\\n\")\n",
    "\n",
    "    def ingestData(self, itr):\n",
    "        print(f\"\\tStarting Ingestion...\", end='')\n",
    "        dbutils.fs.cp(f\"{self.base_data_dir}/data/text_data_{itr}.txt\", f\"{self.base_data_dir}/data/text/\")\n",
    "        print(\"Done\")\n",
    "\n",
    "    def assertResult(self, expected_count):\n",
    "        print(f\"\\tStarting validation...\", end='')\n",
    "        actual_count = spark.sql(\"select sum(count) from word_count_table where substr(word, 1, 1) == 's'\").collect()[0][0]\n",
    "        print(expected_count)\n",
    "        print(actual_count)\n",
    "        assert expected_count == int(actual_count), f\"Test failed! actual count is {actual_count}\"\n",
    "        print(\"Done\")\n",
    "\n",
    "    def runTests(self):\n",
    "        import time\n",
    "        sleepTime = 30\n",
    "\n",
    "        self.cleanTests()\n",
    "        wc = streamWC()\n",
    "        sQuery = wc.wordCount() \n",
    "\n",
    "        print(\"Testing first iteration of batch word count...\") \n",
    "        self.ingestData(1)\n",
    "        print(\"\\tWaiting for {sleepTime} seconds...\")\n",
    "        time.sleep(sleepTime)\n",
    "        self.assertResult(25)\n",
    "        print(\"First iteration of batch word count completed.\\n\")\n",
    "\n",
    "        print(\"Testing second iteration of batch word count...\") \n",
    "        self.ingestData(2)\n",
    "        print(\"\\tWaiting for {sleepTime} seconds...\")\n",
    "        time.sleep(sleepTime)\n",
    "        self.assertResult(32)\n",
    "        print(\"Second iteration of batch word count completed.\\n\") \n",
    "\n",
    "        print(\"Testing third iteration of batch word count...\") \n",
    "        self.ingestData(3)\n",
    "        print(\"\\tWaiting for {sleepTime} seconds...\")\n",
    "        time.sleep(sleepTime)\n",
    "        self.assertResult(37)\n",
    "        print(\"Third iteration of batch word count completed.\\n\")\n",
    "\n",
    "        sQuery.stop()"
   ]
  },
  {
   "cell_type": "code",
   "execution_count": null,
   "metadata": {
    "application/vnd.databricks.v1+cell": {
     "cellMetadata": {
      "byteLimit": 2048000,
      "rowLimit": 10000
     },
     "inputWidgets": {},
     "nuid": "60e53bb4-ca6d-473f-95b0-b9190e2d13f2",
     "showTitle": false,
     "title": ""
    }
   },
   "outputs": [
    {
     "name": "stdout",
     "output_type": "stream",
     "text": [
      "Starting Cleanup...Done\n",
      "\n",
      "\tStarting Word Count Stream...Done\n",
      "Testing first iteration of batch word count...\n",
      "\tStarting Ingestion...Done\n",
      "\tWaiting for {sleepTime} seconds...\n",
      "\tStarting validation...25\n",
      "25\n",
      "Done\n",
      "First iteration of batch word count completed.\n",
      "\n",
      "Testing second iteration of batch word count...\n",
      "\tStarting Ingestion...Done\n",
      "\tWaiting for {sleepTime} seconds...\n",
      "\tStarting validation...32\n",
      "32\n",
      "Done\n",
      "Second iteration of batch word count completed.\n",
      "\n",
      "Testing third iteration of batch word count...\n",
      "\tStarting Ingestion...Done\n",
      "\tWaiting for {sleepTime} seconds...\n",
      "\tStarting validation...37\n",
      "37\n",
      "Done\n",
      "Third iteration of batch word count completed.\n",
      "\n"
     ]
    }
   ],
   "source": [
    "swcTS = streamWCTestSuite()\n",
    "swcTS.runTests()"
   ]
  }
 ],
 "metadata": {
  "application/vnd.databricks.v1+notebook": {
   "dashboards": [],
   "environmentMetadata": null,
   "language": "python",
   "notebookMetadata": {
    "pythonIndentUnit": 4
   },
   "notebookName": "02-stream-word-count-test-suite",
   "widgets": {}
  },
  "kernelspec": {
   "display_name": "Python 3",
   "language": "python",
   "name": "python3"
  },
  "language_info": {
   "codemirror_mode": {
    "name": "ipython",
    "version": 3
   },
   "file_extension": ".py",
   "mimetype": "text/x-python",
   "name": "python",
   "nbconvert_exporter": "python",
   "pygments_lexer": "ipython3",
   "version": "3.10.9"
  }
 },
 "nbformat": 4,
 "nbformat_minor": 0
}
