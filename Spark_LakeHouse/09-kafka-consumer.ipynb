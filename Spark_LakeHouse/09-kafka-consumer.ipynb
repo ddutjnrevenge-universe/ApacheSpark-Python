{
 "cells": [
  {
   "cell_type": "code",
   "execution_count": null,
   "metadata": {},
   "outputs": [],
   "source": [
    "BOOTSTRAP_SERVER = \"localhost:9092\"  # Assuming Kafka is running locally on the default port"
   ]
  },
  {
   "cell_type": "code",
   "execution_count": null,
   "metadata": {},
   "outputs": [],
   "source": [
    "df = ( spark.read\n",
    "            .format(\"kafka\")\n",
    "            .option(\"kafka.bootstrap.servers\", BOOTSTRAP_SERVER)\n",
    "            .option(\"subscribe\", \"invoices\")\n",
    "            .load()\n",
    "        )\n"
   ]
  },
  {
   "cell_type": "code",
   "execution_count": null,
   "metadata": {},
   "outputs": [],
   "source": [
    "\n",
    "display(df)"
   ]
  }
 ],
 "metadata": {
  "language_info": {
   "name": "python"
  }
 },
 "nbformat": 4,
 "nbformat_minor": 2
}
