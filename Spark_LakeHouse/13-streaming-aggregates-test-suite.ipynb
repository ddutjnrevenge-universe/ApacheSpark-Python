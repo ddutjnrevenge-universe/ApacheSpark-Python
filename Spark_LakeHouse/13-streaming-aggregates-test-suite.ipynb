{
 "cells": [
  {
   "cell_type": "code",
   "execution_count": 1,
   "metadata": {},
   "outputs": [],
   "source": [
    "import findspark\n",
    "findspark.init()"
   ]
  },
  {
   "cell_type": "code",
   "execution_count": 2,
   "metadata": {},
   "outputs": [],
   "source": [
    "%run ./12-streaming-aggregates.ipynb"
   ]
  },
  {
   "cell_type": "code",
   "execution_count": 3,
   "metadata": {},
   "outputs": [],
   "source": [
    "import shutil\n",
    "import os\n",
    "import time\n",
    "from pyspark.sql import SparkSession"
   ]
  },
  {
   "cell_type": "code",
   "execution_count": 4,
   "metadata": {},
   "outputs": [],
   "source": [
    "spark = SparkSession.builder.master(\"local[*]\")\\\n",
    "                    .appName(\"Streaming Aggregates\")\\\n",
    "                    .getOrCreate()\n",
    "# spark = SparkSession.builder \\\n",
    "#     .appName(\"MedallionApproachTest\") \\\n",
    "#     .config(\"spark.jars.packages\", \"io.delta:delta-core_2.12:2.1.0\") \\\n",
    "#     .getOrCreate()\n"
   ]
  },
  {
   "cell_type": "code",
   "execution_count": 5,
   "metadata": {},
   "outputs": [],
   "source": [
    "class AggregationTestSuite():\n",
    "    def __init__(self):\n",
    "        self.base_data_dir = \"data/invoices\"\n",
    "        self.spark_warehouse_dir = \"spark-warehouse\"\n",
    "\n",
    "    def cleanTests(self):\n",
    "        print(f\"Starting Cleanup...\", end='')\n",
    "        spark.sql(\"drop table if exists invoices_bz\")\n",
    "\n",
    "        def remove_dir(path):\n",
    "            if os.path.exists(path):\n",
    "                shutil.rmtree(path)\n",
    "\n",
    "        remove_dir(f\"{self.spark_warehouse_dir}/invoices_bz\")\n",
    "\n",
    "        remove_dir(f\"{self.base_data_dir}/checkpoint/invoices_bz\")\n",
    "\n",
    "        remove_dir(f\"{self.base_data_dir}/data/aggregate/invoices\")\n",
    "        print(\"Done removing directories.\")\n",
    "        os.makedirs(f\"{self.base_data_dir}/data/aggregate/invoices\")\n",
    "        print(\"Done\")\n",
    "\n",
    "    def ingestData(self, itr):\n",
    "        print(f\"\\tStarting Ingestion...\", end='')\n",
    "        shutil.copy(f\"{self.base_data_dir}/invoices-{itr}.json\", f\"{self.base_data_dir}/data/aggregate/invoices/\")\n",
    "        print(\"Done\")\n",
    "\n",
    "    def assertBronze(self, expected_count):\n",
    "        print(f\"\\tStarting Bronze validation...\", end='')\n",
    "        actual_count = spark.sql(\"select count(*) from invoices_bz\").collect()[0][0]\n",
    "        assert expected_count == actual_count, f\"Test failed! actual count is {actual_count}\"\n",
    "        print(\"Done\")\n",
    "\n",
    "    def assertGold(self, expected_value):\n",
    "        print(f\"\\tStarting Gold validation...\", end='')\n",
    "        actual_value = spark.sql(\"select TotalAmount from customer_rewards\").filter(\"CustomerCardNo = '2262471989'\").collect()[0][0]\n",
    "        assert expected_value == actual_value, f\"Test failed! actual value is {actual_value}\"\n",
    "        print(\"Done\")\n",
    "\n",
    "    def waitForMicroBatch(self, sleep=30):\n",
    "        import time\n",
    "        print(f\"\\tWaiting for {sleep} seconds...\", end='')\n",
    "        time.sleep(sleep)\n",
    "        print(\"Done.\")    \n",
    "\n",
    "    def runTests(self):\n",
    "        self.cleanTests()\n",
    "        bzStream = Bronze()\n",
    "        bzQuery = bzStream.process()\n",
    "        gdStream = Gold()\n",
    "        gdQuery = gdStream.process()       \n",
    "\n",
    "        print(\"\\nTesting first iteration of invoice stream...\") \n",
    "        self.ingestData(1)\n",
    "        self.waitForMicroBatch()        \n",
    "        self.assertBronze(501)\n",
    "        self.assertGold(36859)\n",
    "        print(\"Validation passed.\\n\")\n",
    "\n",
    "        print(\"\\nTesting second iteration of invoice stream...\") \n",
    "        self.ingestData(2)\n",
    "        self.waitForMicroBatch()        \n",
    "        self.assertBronze(501+500)\n",
    "        self.assertGold(36859+20740)\n",
    "        print(\"Validation passed.\\n\")\n",
    "\n",
    "        print(\"\\nTesting second iteration of invoice stream...\") \n",
    "        self.ingestData(3)\n",
    "        self.waitForMicroBatch()        \n",
    "        self.assertBronze(501+500+590)\n",
    "        self.assertGold(36859+20740+31959)\n",
    "        print(\"Validation passed.\\n\")\n",
    "\n",
    "        bzQuery.stop()\n",
    "        gdQuery.stop()"
   ]
  },
  {
   "cell_type": "code",
   "execution_count": 6,
   "metadata": {},
   "outputs": [
    {
     "name": "stdout",
     "output_type": "stream",
     "text": [
      "Starting Cleanup...Done removing directories.\n",
      "Done\n",
      "\n",
      "Starting Bronze Stream...Done\n",
      "\n",
      "Starting Silver Stream...\n",
      "Testing first iteration of invoice stream...\n",
      "\tStarting Ingestion...Done\n",
      "\tWaiting for 30 seconds...Done.\n",
      "\tStarting Bronze validation...Done\n",
      "\tStarting Gold validation...Done\n",
      "Validation passed.\n",
      "\n",
      "\n",
      "Testing second iteration of invoice stream...\n",
      "\tStarting Ingestion...Done\n",
      "\tWaiting for 30 seconds...Done.\n",
      "\tStarting Bronze validation...Done\n",
      "\tStarting Gold validation...Done\n",
      "Validation passed.\n",
      "\n",
      "\n",
      "Testing second iteration of invoice stream...\n",
      "\tStarting Ingestion...Done\n",
      "\tWaiting for 30 seconds...Done.\n",
      "\tStarting Bronze validation...Done\n",
      "\tStarting Gold validation...Done\n",
      "Validation passed.\n",
      "\n"
     ]
    }
   ],
   "source": [
    "aTS = AggregationTestSuite()\n",
    "aTS.runTests()\t"
   ]
  },
  {
   "cell_type": "code",
   "execution_count": null,
   "metadata": {},
   "outputs": [],
   "source": []
  }
 ],
 "metadata": {
  "kernelspec": {
   "display_name": "Python 3",
   "language": "python",
   "name": "python3"
  },
  "language_info": {
   "codemirror_mode": {
    "name": "ipython",
    "version": 3
   },
   "file_extension": ".py",
   "mimetype": "text/x-python",
   "name": "python",
   "nbconvert_exporter": "python",
   "pygments_lexer": "ipython3",
   "version": "3.9.0"
  }
 },
 "nbformat": 4,
 "nbformat_minor": 2
}
