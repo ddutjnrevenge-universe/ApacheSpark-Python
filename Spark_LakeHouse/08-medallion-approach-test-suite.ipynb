{
 "cells": [
  {
   "cell_type": "code",
   "execution_count": 1,
   "metadata": {},
   "outputs": [],
   "source": [
    "import findspark\n",
    "findspark.init()"
   ]
  },
  {
   "cell_type": "code",
   "execution_count": 2,
   "metadata": {},
   "outputs": [],
   "source": [
    "%run ./07-medallion-approach.ipynb"
   ]
  },
  {
   "cell_type": "code",
   "execution_count": 3,
   "metadata": {},
   "outputs": [],
   "source": [
    "import shutil\n",
    "import os\n",
    "import time\n",
    "from pyspark.sql import SparkSession"
   ]
  },
  {
   "cell_type": "code",
   "execution_count": 4,
   "metadata": {},
   "outputs": [],
   "source": [
    "spark = SparkSession.builder.master(\"local[*]\")\\\n",
    "                    .appName(\"MedallionApproachTest\")\\\n",
    "                    .getOrCreate()\n",
    "# spark = SparkSession.builder \\\n",
    "#     .appName(\"MedallionApproachTest\") \\\n",
    "#     .config(\"spark.jars.packages\", \"io.delta:delta-core_2.12:2.1.0\") \\\n",
    "#     .getOrCreate()\n"
   ]
  },
  {
   "cell_type": "code",
   "execution_count": 7,
   "metadata": {},
   "outputs": [],
   "source": [
    "class medallionApproachTestSuite():\n",
    "    def __init__(self):\n",
    "        self.base_data_dir = \"data/invoices\"\n",
    "        self.spark_warehouse_dir = \"spark-warehouse\"\n",
    "\n",
    "    def cleanTests(self):\n",
    "        print(\"Starting Cleanup...\", end=\"\")\n",
    "        spark.sql(\"DROP TABLE IF EXISTS invoices_bz\")\n",
    "        spark.sql(\"DROP TABLE IF EXISTS invoice_line_items\")\n",
    "        \n",
    "        def remove_dir(path):\n",
    "            if os.path.exists(path):\n",
    "                shutil.rmtree(path)\n",
    "\n",
    "        remove_dir(f\"{self.base_data_dir}/checkpoint/invoices_bz\")\n",
    "        remove_dir(f\"{self.base_data_dir}/checkpoint/invoice_line_items\")\n",
    "        remove_dir(f\"{self.base_data_dir}/data/medallion/invoices_archive\")\n",
    "        remove_dir(f\"{self.base_data_dir}/data/medallion/invoices\")\n",
    "\n",
    "        #remove dir in spark-warehouse\n",
    "        print(\"Start removing tables in spark-warehouse\")\n",
    "        remove_dir(f\"{self.spark_warehouse_dir}/invoices_bz\")\n",
    "        remove_dir(f\"{self.spark_warehouse_dir}/invoice_line_items\")\n",
    "        print(\"Done removing tables in spark-warehouse\")\n",
    "        \n",
    "        os.makedirs(f\"{self.base_data_dir}/data/medallion/invoices\")\n",
    "        print(\"Done\")\n",
    "\n",
    "    def ingestData(self, itr):\n",
    "        print(f\"\\tStarting Ingestion...\", end='')\n",
    "        shutil.copy(f\"{self.base_data_dir}/invoices-{itr}.json\", f\"{self.base_data_dir}/data/medallion/invoices/\")\n",
    "        print(\"Done\")\n",
    "\n",
    "    def assertResult(self, expected_count):\n",
    "        print(f\"\\tStarting validation...\", end='')\n",
    "        actual_count = spark.sql(\"select count(*) from invoice_line_items\").collect()[0][0]\n",
    "        assert expected_count == actual_count, f\"Test failed! actual count is {actual_count}\"\n",
    "        print(\"Done\")\n",
    "\n",
    "    def waitForMicroBatch(self, sleep=30):\n",
    "        print(f\"\\tWaiting for {sleep} seconds...\", end='')\n",
    "        time.sleep(sleep)\n",
    "        print(\"Done.\")\n",
    "\n",
    "    def runTests(self):\n",
    "        self.cleanTests()\n",
    "        \n",
    "        bzStream = Bronze()\n",
    "        bzQuery = bzStream.process()\n",
    "        \n",
    "        slStream = Silver()\n",
    "        slQuery = slStream.process()\n",
    "\n",
    "        print(\"Testing first iteration of invoice stream...\") \n",
    "        self.ingestData(1)\n",
    "        self.waitForMicroBatch()        \n",
    "        self.assertResult(1253)\n",
    "        print(\"Validation passed.\\n\")\n",
    "\n",
    "        print(\"Testing second iteration of invoice stream...\") \n",
    "        self.ingestData(2)\n",
    "        self.waitForMicroBatch()\n",
    "        self.assertResult(2510)\n",
    "        print(\"Validation passed.\\n\") \n",
    "\n",
    "        print(\"Testing third iteration of invoice stream...\") \n",
    "        self.ingestData(3)\n",
    "        self.waitForMicroBatch()\n",
    "        self.assertResult(3994)\n",
    "        print(\"Validation passed.\\n\")\n",
    "\n",
    "        bzQuery.stop()\n",
    "        slQuery.stop()\n",
    "\n",
    "        print(\"Validating Archive...\", end=\"\")\n",
    "        archived_expected = [\"invoices_1.json\", \"invoices_2.json\"]\n",
    "        archived_files = os.listdir(f\"{self.base_data_dir}/data/medallion/invoices_archive\")\n",
    "        for file_name in archived_files:\n",
    "            assert file_name in archived_expected, f\"Archive Validation failed for {file_name}\"\n",
    "        print(\"Done\")\n",
    "\n"
   ]
  },
  {
   "cell_type": "code",
   "execution_count": 8,
   "metadata": {},
   "outputs": [
    {
     "name": "stdout",
     "output_type": "stream",
     "text": [
      "Starting Cleanup...Start removing tables in spark-warehouse\n",
      "Done removing tables in spark-warehouse\n",
      "Done\n",
      "\n",
      "Starting Bronze Stream...Done\n",
      "\n",
      "Starting Silver Stream...Done.\n",
      "\n",
      "Testing first iteration of invoice stream...\n",
      "\tStarting Ingestion...Done\n",
      "\tWaiting for 30 seconds...Done.\n",
      "\tStarting validation...Done\n",
      "Validation passed.\n",
      "\n",
      "Testing second iteration of invoice stream...\n",
      "\tStarting Ingestion...Done\n",
      "\tWaiting for 30 seconds...Done.\n",
      "\tStarting validation...Done\n",
      "Validation passed.\n",
      "\n",
      "Testing third iteration of invoice stream...\n",
      "\tStarting Ingestion...Done\n",
      "\tWaiting for 30 seconds...Done.\n",
      "\tStarting validation...Done\n",
      "Validation passed.\n",
      "\n",
      "Validating Archive...Done\n"
     ]
    }
   ],
   "source": [
    "maTS = medallionApproachTestSuite()\n",
    "maTS.runTests()"
   ]
  }
 ],
 "metadata": {
  "kernelspec": {
   "display_name": "Python 3",
   "language": "python",
   "name": "python3"
  },
  "language_info": {
   "codemirror_mode": {
    "name": "ipython",
    "version": 3
   },
   "file_extension": ".py",
   "mimetype": "text/x-python",
   "name": "python",
   "nbconvert_exporter": "python",
   "pygments_lexer": "ipython3",
   "version": "3.9.0"
  }
 },
 "nbformat": 4,
 "nbformat_minor": 2
}
