{
 "cells": [
  {
   "cell_type": "code",
   "execution_count": null,
   "metadata": {},
   "outputs": [],
   "source": [
    "class Bronze():\n",
    "    def __init__(self):\n",
    "        self.base_data_dir = \"data\"\n",
    "        self.BOOTSTRAP_SERVER = \"localhost:9092\"\n",
    "\n",
    "    def getSchema(self):\n",
    "        return \"\"\"InvoiceNumber string, CreatedTime bigint, StoreID string, PosID string, CashierID string,\n",
    "                CustomerType string, CustomerCardNo string, TotalAmount double, NumberOfItems bigint, \n",
    "                PaymentMethod string, TaxableAmount double, CGST double, SGST double, CESS double, \n",
    "                DeliveryType string,\n",
    "                DeliveryAddress struct<AddressLine string, City string, ContactNumber string, PinCode string, \n",
    "                State string>,\n",
    "                InvoiceLineItems array<struct<ItemCode string, ItemDescription string, \n",
    "                    ItemPrice double, ItemQty bigint, TotalValue double>>\n",
    "            \"\"\"\n",
    "    def ingestFromKafka(self, startingTime=1):\n",
    "        return ( spark.readStream \n",
    "                    .format(\"kafka\")\n",
    "                    .option(\"kafka.bootstrap.servers\", self.BOOTSTRAP_SERVER)\n",
    "                    .option(\"subscribe\", \"invoices_bz\")\n",
    "                    .option(\"maxOffsetPerTrigger\", 10)\n",
    "                    .option(\"startingOffsets\", \"earliest\")\n",
    "                    .load()\n",
    "        )\n",
    "    \n",
    "    def getInvoices(self, kafka_df):\n",
    "        from pyspark.sql.functions import from_json\n",
    "        return (kafka_df.select(kafka_df.key.cast(\"string\").alias(\"key\"),\n",
    "                                from_json(kafka_df.value.cast(\"string\"), self.getSchema()).alias(\"value\"),\n",
    "                                \"topic\", \"timestamp\")\n",
    "        )\n",
    "    \n",
    "    def process(self, startingTime=1):\n",
    "        print(f\"Starting Bronze Streaming Job...\", end=\"\")\n",
    "        rawDF = self.ingestFromKafka(startingTime)\n",
    "        invoicesDF = self.getInvoices(rawDF)\n",
    "        sQuery = ( invoicesDF.writeStream\n",
    "                            .queryName(\"bronze-ingestion\")\n",
    "                            .option(\"checkpointLocation\", f\"{self.base_data_dir}/checkpoint/invoices_bz\")\n",
    "                            .outputMode(\"append\")\n",
    "                            .toTable(\"invoices_bz\")\n",
    "                )\n",
    "        print(\"Done\")\n",
    "        return sQuery"
   ]
  }
 ],
 "metadata": {
  "kernelspec": {
   "display_name": "Python 3 (ipykernel)",
   "language": "python",
   "name": "python3"
  },
  "language_info": {
   "codemirror_mode": {
    "name": "ipython",
    "version": 3
   },
   "file_extension": ".py",
   "mimetype": "text/x-python",
   "name": "python",
   "nbconvert_exporter": "python",
   "pygments_lexer": "ipython3",
   "version": "3.10.12"
  }
 },
 "nbformat": 4,
 "nbformat_minor": 4
}
