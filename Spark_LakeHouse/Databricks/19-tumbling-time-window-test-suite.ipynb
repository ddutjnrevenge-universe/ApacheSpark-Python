{
 "cells": [
  {
   "cell_type": "code",
   "execution_count": 0,
   "metadata": {
    "application/vnd.databricks.v1+cell": {
     "cellMetadata": {
      "byteLimit": 2048000,
      "rowLimit": 10000
     },
     "inputWidgets": {},
     "nuid": "3c639196-04a3-41de-a023-f5bf17589e8c",
     "showTitle": false,
     "title": ""
    }
   },
   "outputs": [],
   "source": [
    "%run ./18-tumbling-time-window"
   ]
  },
  {
   "cell_type": "code",
   "execution_count": 0,
   "metadata": {
    "application/vnd.databricks.v1+cell": {
     "cellMetadata": {
      "byteLimit": 2048000,
      "rowLimit": 10000
     },
     "inputWidgets": {},
     "nuid": "be0dbcfc-2866-47e0-958c-92d408b2c89b",
     "showTitle": false,
     "title": ""
    }
   },
   "outputs": [],
   "source": [
    "class TradeSummaryTestSuite():\n",
    "    def __init__(self):\n",
    "        self.base_data_dir = \"/FileStore/data_spark_streaming\"\n",
    "\n",
    "    def cleanTests(self):\n",
    "        print(f\"Starting Cleanup...\", end='')\n",
    "        spark.sql(\"drop table if exists kafka_bz\")\n",
    "        spark.sql(\"drop table if exists trade_summary\")\n",
    "        dbutils.fs.rm(\"/user/hive/warehouse/kafka_bz\", True)\n",
    "        dbutils.fs.rm(\"/user/hive/warehouse/trade_summary\", True)\n",
    "        spark.sql(f\"CREATE TABLE kafka_bz(key STRING, value STRING)\")\n",
    "\n",
    "        dbutils.fs.rm(f\"{self.base_data_dir}/checkpoint/trade_summary\", True)\n",
    "        print(\"Done\")\n",
    "\n",
    "    def assertTradeSummary(self, start, end, expected_buy, expected_sell):\n",
    "        print(f\"\\tStarting Trade Summary validation...\", end='')\n",
    "        result = (spark.sql(f\"\"\"select TotalBuy, TotalSell from trade_summary \n",
    "                                    where date_format(start, 'yyyy-MM-dd HH:mm:ss') = '{start}' \n",
    "                                    and date_format(end, 'yyyy-MM-dd HH:mm:ss')='{end}'\"\"\")\n",
    "                            .collect()\n",
    "                )\n",
    "        actual_buy = result[0][0]\n",
    "        actual_sell = result[0][1]\n",
    "        assert expected_buy == actual_buy, f\"Test failed! actual buy is {actual_buy}\"\n",
    "        assert expected_sell == actual_sell, f\"Test failed! actual sell is {actual_sell}\"\n",
    "        print(\"Done\")\n",
    "\n",
    "    def waitForMicroBatch(self, sleep=30):\n",
    "        import time\n",
    "        print(f\"\\tWaiting for {sleep} seconds...\", end='')\n",
    "        time.sleep(sleep)\n",
    "        print(\"Done.\")    \n",
    "\n",
    "    def runTests(self):\n",
    "        self.cleanTests()\n",
    "\n",
    "        stream = TradeSummary()\n",
    "        sQuery = stream.process()       \n",
    "\n",
    "        print(\"\\nTesting first two events...\") \n",
    "        spark.sql(\"\"\"INSERT INTO kafka_bz VALUES\n",
    "                  ('2019-02-05', '{\"CreatedTime\": \"2019-02-05 10:05:00\", \"Type\": \"BUY\", \"Amount\": 500, \"BrokerCode\": \"ABX\"}'),\n",
    "                  ('2019-02-05', '{\"CreatedTime\": \"2019-02-05 10:12:00\", \"Type\": \"BUY\", \"Amount\": 300, \"BrokerCode\": \"ABX\"}')\n",
    "            \"\"\")\n",
    "        self.waitForMicroBatch()        \n",
    "        self.assertTradeSummary('2019-02-05 10:00:00', '2019-02-05 10:15:00', 800, 0)\n",
    "\n",
    "        print(\"\\nTesting third and fourth events...\") \n",
    "        spark.sql(\"\"\"INSERT INTO kafka_bz VALUES\n",
    "                  ('2019-02-05', '{\"CreatedTime\": \"2019-02-05 10:20:00\", \"Type\": \"BUY\", \"Amount\": 600, \"BrokerCode\": \"ABX\"}'),\n",
    "                  ('2019-02-05', '{\"CreatedTime\": \"2019-02-05 10:40:00\", \"Type\": \"BUY\", \"Amount\": 900, \"BrokerCode\": \"ABX\"}')\n",
    "            \"\"\")\n",
    "        self.waitForMicroBatch()        \n",
    "        self.assertTradeSummary('2019-02-05 10:15:00', '2019-02-05 10:30:00', 600, 0)\n",
    "        self.assertTradeSummary('2019-02-05 10:30:00', '2019-02-05 10:45:00', 900, 0)\n",
    "\n",
    "        print(\"\\nTesting late event...\") \n",
    "        spark.sql(\"\"\"INSERT INTO kafka_bz VALUES\n",
    "                    ('2019-02-05', '{\"CreatedTime\": \"2019-02-05 10:48:00\", \"Type\": \"SELL\", \"Amount\": 500, \"BrokerCode\": \"ABX\"}'),\n",
    "                    ('2019-02-05', '{\"CreatedTime\": \"2019-02-05 10:25:00\", \"Type\": \"SELL\", \"Amount\": 400, \"BrokerCode\": \"ABX\"}')\n",
    "            \"\"\")\n",
    "        self.waitForMicroBatch()        \n",
    "        self.assertTradeSummary('2019-02-05 10:45:00', '2019-02-05 11:00:00', 0, 500)\n",
    "        self.assertTradeSummary('2019-02-05 10:15:00', '2019-02-05 10:30:00', 600, 400)\n",
    "\n",
    "        print(\"Validation passed.\\n\")        \n",
    "\n",
    "        sQuery.stop()"
   ]
  },
  {
   "cell_type": "code",
   "execution_count": 0,
   "metadata": {
    "application/vnd.databricks.v1+cell": {
     "cellMetadata": {
      "byteLimit": 2048000,
      "rowLimit": 10000
     },
     "inputWidgets": {},
     "nuid": "572fc2eb-8232-4e83-9473-a83ffe1fc6ca",
     "showTitle": false,
     "title": ""
    }
   },
   "outputs": [
    {
     "output_type": "stream",
     "name": "stdout",
     "output_type": "stream",
     "text": [
      "Starting Cleanup...Done\n\nStarting Silver Stream...\nTesting first two events...\n\tWaiting for 30 seconds...Done.\n\tStarting Trade Summary validation...Done\n\nTesting third and fourth events...\n\tWaiting for 30 seconds...Done.\n\tStarting Trade Summary validation...Done\n\tStarting Trade Summary validation...Done\n\nTesting late event...\n\tWaiting for 30 seconds...Done.\n\tStarting Trade Summary validation...Done\n\tStarting Trade Summary validation...Done\nValidation passed.\n\n"
     ]
    }
   ],
   "source": [
    "ts = TradeSummaryTestSuite()\n",
    "ts.runTests()\t"
   ]
  },
  {
   "cell_type": "code",
   "execution_count": 0,
   "metadata": {
    "application/vnd.databricks.v1+cell": {
     "cellMetadata": {
      "byteLimit": 2048000,
      "implicitDf": true,
      "rowLimit": 10000
     },
     "inputWidgets": {},
     "nuid": "bde0d295-37fc-4662-b0a4-7c4428b0cf6d",
     "showTitle": false,
     "title": ""
    }
   },
   "outputs": [
    {
     "output_type": "display_data",
     "data": {
      "text/html": [
       "<style scoped>\n",
       "  .table-result-container {\n",
       "    max-height: 300px;\n",
       "    overflow: auto;\n",
       "  }\n",
       "  table, th, td {\n",
       "    border: 1px solid black;\n",
       "    border-collapse: collapse;\n",
       "  }\n",
       "  th, td {\n",
       "    padding: 5px;\n",
       "  }\n",
       "  th {\n",
       "    text-align: left;\n",
       "  }\n",
       "</style><div class='table-result-container'><table class='table-result'><thead style='background-color: white'><tr><th>at_time</th><th>Buy</th><th>Sell</th><th>Net</th></tr></thead><tbody><tr><td>10:15</td><td>800.0</td><td>0.0</td><td>800.0</td></tr><tr><td>10:30</td><td>1400.0</td><td>400.0</td><td>1000.0</td></tr><tr><td>10:45</td><td>2300.0</td><td>400.0</td><td>1900.0</td></tr><tr><td>11:00</td><td>2300.0</td><td>900.0</td><td>1400.0</td></tr></tbody></table></div>"
      ]
     },
     "metadata": {
      "application/vnd.databricks.v1+output": {
       "addedWidgets": {},
       "aggData": [],
       "aggError": "",
       "aggOverflow": false,
       "aggSchema": [],
       "aggSeriesLimitReached": false,
       "aggType": "",
       "arguments": {},
       "columnCustomDisplayInfos": {},
       "data": [
        [
         "10:15",
         800.0,
         0.0,
         800.0
        ],
        [
         "10:30",
         1400.0,
         400.0,
         1000.0
        ],
        [
         "10:45",
         2300.0,
         400.0,
         1900.0
        ],
        [
         "11:00",
         2300.0,
         900.0,
         1400.0
        ]
       ],
       "datasetInfos": [],
       "dbfsResultPath": null,
       "isJsonSchema": true,
       "metadata": {
        "dataframeName": "_sqldf",
        "executionCount": 4
       },
       "overflow": false,
       "plotOptions": {
        "customPlotOptions": {},
        "displayType": "table",
        "pivotAggregation": null,
        "pivotColumns": null,
        "xColumns": null,
        "yColumns": null
       },
       "removedWidgets": [],
       "schema": [
        {
         "metadata": "{}",
         "name": "at_time",
         "type": "\"string\""
        },
        {
         "metadata": "{}",
         "name": "Buy",
         "type": "\"double\""
        },
        {
         "metadata": "{}",
         "name": "Sell",
         "type": "\"double\""
        },
        {
         "metadata": "{}",
         "name": "Net",
         "type": "\"double\""
        }
       ],
       "type": "table"
      }
     },
     "output_type": "display_data"
    },
    {
     "output_type": "display_data",
     "data": {
      "text/plain": [
       "Databricks visualization. Run in Databricks to view."
      ]
     },
     "metadata": {
      "application/vnd.databricks.v1.subcommand+json": {
       "baseErrorDetails": null,
       "bindings": {},
       "collapsed": false,
       "command": "%sql WITH q AS (select date_format(end, \"HH:mm\") as at_time,\n  sum(TotalBuy) over (order by end) as Buy,\n  sum(TotalSell) over (order by end) as Sell,\n  Buy - Sell as Net \nfrom trade_summary) SELECT `at_time`,SUM(`Buy`) `column_e33a73393`,SUM(`Sell`) `column_e33a73396`,SUM(`Net`) `column_e33a73399` FROM q GROUP BY `at_time`",
       "commandTitle": "Visualization 1",
       "commandType": "auto",
       "commandVersion": 0,
       "commentThread": [],
       "commentsVisible": false,
       "contentSha256Hex": null,
       "customPlotOptions": {
        "redashChart": [
         {
          "key": "type",
          "value": "CHART"
         },
         {
          "key": "options",
          "value": {
           "alignYAxesAtZero": true,
           "coefficient": 1,
           "columnConfigurationMap": {
            "x": {
             "column": "at_time",
             "id": "column_e33a73391"
            },
            "y": [
             {
              "column": "Buy",
              "id": "column_e33a73393",
              "transform": "SUM"
             },
             {
              "column": "Sell",
              "id": "column_e33a73396",
              "transform": "SUM"
             },
             {
              "column": "Net",
              "id": "column_e33a73399",
              "transform": "SUM"
             }
            ]
           },
           "dateTimeFormat": "DD/MM/YYYY HH:mm",
           "direction": {
            "type": "counterclockwise"
           },
           "error_y": {
            "type": "data",
            "visible": true
           },
           "globalSeriesType": "line",
           "isAggregationOn": true,
           "legend": {
            "traceorder": "normal"
           },
           "missingValuesAsZero": true,
           "numberFormat": "0,0.[00000]",
           "percentFormat": "0[.]00%",
           "series": {
            "error_y": {
             "type": "data",
             "visible": true
            },
            "percentValues": false,
            "stacking": null
           },
           "seriesOptions": {
            "column_e33a73393": {
             "color": "#B554FF",
             "type": "line",
             "yAxis": 0
            },
            "column_e33a73396": {
             "color": "#FF7DE3",
             "type": "line",
             "yAxis": 0
            },
            "column_e33a73399": {
             "color": "#50F5ED",
             "type": "line",
             "yAxis": 0
            }
           },
           "showDataLabels": true,
           "sizemode": "diameter",
           "sortX": true,
           "sortY": true,
           "swappedAxes": false,
           "textFormat": "",
           "useAggregationsUi": true,
           "valuesOptions": {},
           "version": 2,
           "xAxis": {
            "labels": {
             "enabled": true
            },
            "title": {
             "text": "Time"
            },
            "type": "-"
           },
           "yAxis": [
            {
             "title": {
              "text": "Amount"
             },
             "type": "-"
            },
            {
             "opposite": true,
             "type": "-"
            }
           ]
          }
         }
        ]
       },
       "datasetPreviewNameToCmdIdMap": {},
       "diffDeletes": [],
       "diffInserts": [],
       "displayType": "redashChart",
       "error": null,
       "errorDetails": null,
       "errorSummary": null,
       "errorTraceType": null,
       "finishTime": 0,
       "globalVars": {},
       "guid": "",
       "height": "auto",
       "hideCommandCode": false,
       "hideCommandResult": false,
       "iPythonMetadata": null,
       "inputWidgets": {},
       "isLockedInExamMode": false,
       "latestUser": "a user",
       "latestUserId": null,
       "listResultMetadata": null,
       "metadata": {
        "byteLimit": 2048000,
        "implicitDf": true,
        "rowLimit": 10000
       },
       "nuid": "f851994e-7153-4566-a25e-a7a3af0b9a6d",
       "origId": 0,
       "parentHierarchy": [],
       "pivotAggregation": null,
       "pivotColumns": null,
       "position": 5.0,
       "resultDbfsErrorMessage": null,
       "resultDbfsStatus": "INLINED_IN_TREE",
       "results": null,
       "showCommandTitle": false,
       "startTime": 0,
       "state": "finished",
       "streamStates": {},
       "subcommandOptions": {
        "queryPlan": {
         "groups": [
          {
           "column": "at_time",
           "type": "column"
          }
         ],
         "selects": [
          {
           "column": "at_time",
           "type": "column"
          },
          {
           "alias": "column_e33a73393",
           "args": [
            {
             "column": "Buy",
             "type": "column"
            }
           ],
           "function": "SUM",
           "type": "function"
          },
          {
           "alias": "column_e33a73396",
           "args": [
            {
             "column": "Sell",
             "type": "column"
            }
           ],
           "function": "SUM",
           "type": "function"
          },
          {
           "alias": "column_e33a73399",
           "args": [
            {
             "column": "Net",
             "type": "column"
            }
           ],
           "function": "SUM",
           "type": "function"
          }
         ]
        }
       },
       "submitTime": 0,
       "subtype": "tableResultSubCmd.visualization",
       "tableResultIndex": 0,
       "useConsistentColors": false,
       "version": "CommandV1",
       "width": "auto",
       "workflows": [],
       "xColumns": null,
       "yColumns": null
      }
     },
     "output_type": "display_data"
    }
   ],
   "source": [
    "%sql\n",
    "select date_format(end, \"HH:mm\") as at_time,\n",
    "  sum(TotalBuy) over (order by end) as Buy,\n",
    "  sum(TotalSell) over (order by end) as Sell,\n",
    "  Buy - Sell as Net \n",
    "from trade_summary"
   ]
  }
 ],
 "metadata": {
  "application/vnd.databricks.v1+notebook": {
   "dashboards": [],
   "environmentMetadata": null,
   "language": "python",
   "notebookMetadata": {
    "mostRecentlyExecutedCommandWithImplicitDF": {
     "commandId": 4274035050894951,
     "dataframes": [
      "_sqldf"
     ]
    },
    "pythonIndentUnit": 4
   },
   "notebookName": "19-tumbling-time-window-test-suite",
   "widgets": {}
  }
 },
 "nbformat": 4,
 "nbformat_minor": 0
}
