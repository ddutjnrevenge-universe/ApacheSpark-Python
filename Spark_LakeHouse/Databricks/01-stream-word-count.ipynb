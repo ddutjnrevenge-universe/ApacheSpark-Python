{
 "cells": [
  {
   "cell_type": "code",
   "execution_count": 0,
   "metadata": {
    "application/vnd.databricks.v1+cell": {
     "cellMetadata": {},
     "inputWidgets": {},
     "nuid": "37afc468-ebc7-4503-aa8e-a395954d9473",
     "showTitle": false,
     "title": ""
    }
   },
   "outputs": [],
   "source": [
    "class streamWC():\n",
    "    def __init__(self):\n",
    "        self.base_data_dir = \"/FileStore/data_spark_streaming\"\n",
    "\n",
    "    def getRawData(self):\n",
    "        from pyspark.sql.functions import explode, split\n",
    "        lines = (spark.readStream\n",
    "                 .format(\"text\")\n",
    "                 .option(\"lineSep\",\".\")\n",
    "                 .load(f\"{self.base_data_dir}/data/text\")\n",
    "                 )\n",
    "        return lines.select(explode(split(lines.value,\" \")).alias(\"word\"))\n",
    "    \n",
    "    def getQualityData(self, rawDF):\n",
    "        from pyspark.sql.functions import trim, lower\n",
    "        return ( rawDF.select(lower(trim(rawDF.word)).alias(\"word\"))\n",
    "                        .where(\"word is not null\")\n",
    "                        .where(\"word rlike '[a-z]'\")\n",
    "                )\n",
    "    \n",
    "    def getWordCount(self,qualityDF):\n",
    "        return qualityDF.groupBy(\"word\").count()\n",
    "    \n",
    "    def overwriteWordCount(self, wordCountDF):\n",
    "        return ( wordCountDF.writeStream\n",
    "                    .format(\"delta\")\n",
    "                    .option(\"checkpointLocation\", f\"{self.base_data_dir}/checkpoint/word_count\")\n",
    "                    .outputMode(\"complete\")\n",
    "                    .toTable(\"word_count_table\")\n",
    "        )\n",
    "        # wordCountDF.createOrReplaceTempView(\"word_count_table\")\n",
    "\n",
    "    def wordCount(self):\n",
    "        print(f\"\\tStarting Word Count Stream...\", end=\"\")\n",
    "        rawDF = self.getRawData()\n",
    "        qualityDF = self.getQualityData(rawDF)\n",
    "        resultDF = self.getWordCount(qualityDF)\n",
    "        sQuery = self.overwriteWordCount(resultDF)\n",
    "        # spark.sql(\"select * from word_count_table\").show()\n",
    "        print(\"Done\")\n",
    "        return sQuery"
   ]
  }
 ],
 "metadata": {
  "application/vnd.databricks.v1+notebook": {
   "dashboards": [],
   "environmentMetadata": null,
   "language": "python",
   "notebookMetadata": {
    "pythonIndentUnit": 4
   },
   "notebookName": "01-stream-word-count",
   "widgets": {}
  }
 },
 "nbformat": 4,
 "nbformat_minor": 0
}
