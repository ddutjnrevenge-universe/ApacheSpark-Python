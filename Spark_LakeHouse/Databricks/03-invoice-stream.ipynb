{
 "cells": [
  {
   "cell_type": "code",
   "execution_count": 0,
   "metadata": {
    "application/vnd.databricks.v1+cell": {
     "cellMetadata": {},
     "inputWidgets": {},
     "nuid": "168fdaf0-664d-4fea-b82b-16840c54fdeb",
     "showTitle": false,
     "title": ""
    }
   },
   "outputs": [],
   "source": [
    "# #for databricks running\n",
    "class invoiceStream():\n",
    "    def __init__(self):\n",
    "        self.base_data_dir = \"/FileStore/data_spark_streaming\"\n",
    "\n",
    "    def getSchema(self):\n",
    "        return \"\"\"InvoiceNumber string, CreatedTime bigint, StoreID string, PosID string, CashierID string,\n",
    "                CustomerType string, CustomerCardNo string, TotalAmount double, NumberOfItems bigint, \n",
    "                PaymentMethod string, TaxableAmount double, CGST double, SGST double, CESS double, \n",
    "                DeliveryType string,\n",
    "                DeliveryAddress struct<AddressLine string, City string, ContactNumber string, PinCode string, \n",
    "                State string>,\n",
    "                InvoiceLineItems array<struct<ItemCode string, ItemDescription string, \n",
    "                    ItemPrice double, ItemQty bigint, TotalValue double>>\n",
    "            \"\"\"\n",
    "    \n",
    "    def readInvoice(self):\n",
    "        return (spark.readStream\n",
    "                    .format(\"json\")\n",
    "                    .schema(self.getSchema())\n",
    "                    .load(f\"{self.base_data_dir}/data/results/invoices\")\n",
    "                )\n",
    "    \n",
    "    def explodeInvoices(self, invoiceDF):\n",
    "        return ( invoiceDF.selectExpr(\"InvoiceNumber\", \"CreatedTime\", \"StoreID\", \"PosID\",\n",
    "                                      \"CustomerType\", \"PaymentMethod\", \"DeliveryType\", \"DeliveryAddress.City\",\n",
    "                                      \"DeliveryAddress.State\", \"DeliveryAddress.PinCode\",\n",
    "                                      \"explode(InvoiceLineItems) as LineItem\")\n",
    "                )\n",
    "    \n",
    "    def flattenInvoices(self, explodeDF):\n",
    "        from pyspark.sql.functions import expr\n",
    "        return ( explodeDF.withColumn(\"ItemCode\", expr(\"LineItem.ItemCode\"))\n",
    "                        .withColumn(\"ItemDescription\", expr(\"LineItem.ItemDescription\"))\n",
    "                        .withColumn(\"ItemPrice\", expr(\"LineItem.ItemPrice\"))\n",
    "                        .withColumn(\"ItemQty\", expr(\"LineItem.ItemQty\"))\n",
    "                        .withColumn(\"TotalValue\", expr(\"LineItem.TotalValue\"))\n",
    "                        .drop(\"LineItem\")\n",
    "                )\n",
    "    \n",
    "    def appendInvoices(self, flattenedDF):\n",
    "        return ( flattenedDF.writeStream\n",
    "                            .format(\"delta\")\n",
    "                            .option(\"checkpointLocation\", f\"{self.base_data_dir}/checkpoint/invoices\")\n",
    "                            .outputMode(\"append\")\n",
    "                            .toTable(\"invoice_line_items\")\n",
    "                )\n",
    "\n",
    "    def process(self):\n",
    "        print(f\"Starting Invoice Processing Stream...\", end=\"\")\n",
    "        invoiceDF = self.readInvoice()\n",
    "        explodeDF = self.explodeInvoices(invoiceDF)\n",
    "        resultDF = self.flattenInvoices(explodeDF)\n",
    "        sQuery = self.appendInvoices(resultDF)\n",
    "        print(\"Done.\\n\")\n",
    "        return sQuery\n",
    "\n"
   ]
  }
 ],
 "metadata": {
  "application/vnd.databricks.v1+notebook": {
   "dashboards": [],
   "environmentMetadata": null,
   "language": "python",
   "notebookMetadata": {
    "pythonIndentUnit": 4
   },
   "notebookName": "03-invoice-stream",
   "widgets": {}
  },
  "kernelspec": {
   "display_name": "Python 3",
   "language": "python",
   "name": "python3"
  },
  "language_info": {
   "codemirror_mode": {
    "name": "ipython",
    "version": 3
   },
   "file_extension": ".py",
   "mimetype": "text/x-python",
   "name": "python",
   "nbconvert_exporter": "python",
   "pygments_lexer": "ipython3",
   "version": "3.10.9"
  }
 },
 "nbformat": 4,
 "nbformat_minor": 0
}
