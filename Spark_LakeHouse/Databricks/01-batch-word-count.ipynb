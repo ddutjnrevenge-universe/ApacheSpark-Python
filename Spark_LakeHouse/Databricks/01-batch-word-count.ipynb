{
 "cells": [
  {
   "cell_type": "code",
   "execution_count": 0,
   "metadata": {
    "application/vnd.databricks.v1+cell": {
     "cellMetadata": {
      "byteLimit": 2048000,
      "rowLimit": 10000
     },
     "inputWidgets": {},
     "nuid": "93052d53-2364-45a6-a057-8a76f666be5f",
     "showTitle": false,
     "title": ""
    }
   },
   "outputs": [],
   "source": [
    "# base_data_dir = \"/FileStore/data_spark_streaming\""
   ]
  },
  {
   "cell_type": "code",
   "execution_count": 0,
   "metadata": {
    "application/vnd.databricks.v1+cell": {
     "cellMetadata": {
      "byteLimit": 2048000,
      "rowLimit": 10000
     },
     "inputWidgets": {},
     "nuid": "dfed415b-d3b5-41f0-8793-227de75b1b41",
     "showTitle": false,
     "title": ""
    }
   },
   "outputs": [],
   "source": [
    "# lines = (spark.read\n",
    "#          .format(\"text\")\n",
    "#          .option(\"lineSep\",\".\")\n",
    "#          .load(f\"{base_data_dir}/data/text\")\n",
    "#          )"
   ]
  },
  {
   "cell_type": "code",
   "execution_count": 0,
   "metadata": {
    "application/vnd.databricks.v1+cell": {
     "cellMetadata": {
      "byteLimit": 2048000,
      "rowLimit": 10000
     },
     "inputWidgets": {},
     "nuid": "a61cc5b2-cd1d-4e27-a9e5-b769b39b3292",
     "showTitle": false,
     "title": ""
    }
   },
   "outputs": [],
   "source": [
    "# from pyspark.sql.functions import explode, split, trim, lower\n",
    "\n",
    "# raw_words = lines.select(explode(split(lines.value,\" \")).alias(\"word\"))\n",
    "\n",
    "# quality_words = (raw_words.select(lower(trim(raw_words.word)).alias(\"word\"))\n",
    "#                         .where(\"word is not null\")\n",
    "#                         .where(\"word rlike '[a-z]'\")\n",
    "#                 )\n",
    "# wordCounts = quality_words.groupBy(\"word\").count()\n",
    "\n"
   ]
  },
  {
   "cell_type": "code",
   "execution_count": 0,
   "metadata": {
    "application/vnd.databricks.v1+cell": {
     "cellMetadata": {
      "byteLimit": 2048000,
      "rowLimit": 10000
     },
     "inputWidgets": {},
     "nuid": "9cc681ab-b4d0-464d-bb2f-ae3e46cd941e",
     "showTitle": false,
     "title": ""
    }
   },
   "outputs": [],
   "source": [
    "# (wordCounts.write\n",
    "#             .format(\"delta\")\n",
    "#             .mode(\"overwrite\")\n",
    "#             .saveAsTable(\"word_count_table\")\n",
    "# )"
   ]
  },
  {
   "cell_type": "code",
   "execution_count": 0,
   "metadata": {
    "application/vnd.databricks.v1+cell": {
     "cellMetadata": {
      "byteLimit": 2048000,
      "rowLimit": 10000
     },
     "inputWidgets": {},
     "nuid": "0069d380-2293-41a2-a088-cca260e59af4",
     "showTitle": false,
     "title": ""
    }
   },
   "outputs": [],
   "source": [
    "class batchWC():\n",
    "    def __init__(self):\n",
    "        self.base_data_dir = \"/FileStore/data_spark_streaming\"\n",
    "\n",
    "    def getRawData(self):\n",
    "        from pyspark.sql.functions import explode, split\n",
    "        lines = (spark.read\n",
    "                 .format(\"text\")\n",
    "                 .option(\"lineSep\",\".\")\n",
    "                 .load(f\"{self.base_data_dir}/data/text\")\n",
    "                 )\n",
    "        return lines.select(explode(split(lines.value,\" \")).alias(\"word\"))\n",
    "    \n",
    "    def getQualityData(self, rawDF):\n",
    "        from pyspark.sql.functions import trim, lower\n",
    "        return ( rawDF.select(lower(trim(rawDF.word)).alias(\"word\"))\n",
    "                        .where(\"word is not null\")\n",
    "                        .where(\"word rlike '[a-z]'\")\n",
    "                )\n",
    "    \n",
    "    def getWordCount(self,qualityDF):\n",
    "        return qualityDF.groupBy(\"word\").count()\n",
    "    \n",
    "    def overwriteWordCount(self, wordCountDF):\n",
    "        ( wordCountDF.write\n",
    "                    .format(\"delta\")\n",
    "                    .mode(\"overwrite\")\n",
    "                    .saveAsTable(\"word_count_table\")\n",
    "        )\n",
    "        # wordCountDF.createOrReplaceTempView(\"word_count_table\")\n",
    "\n",
    "    def wordCount(self):\n",
    "        print(f\"\\tExecuting Word Count...\", end=\"\")\n",
    "        rawDF = self.getRawData()\n",
    "        qualityDF = self.getQualityData(rawDF)\n",
    "        resultDF = self.getWordCount(qualityDF)\n",
    "        self.overwriteWordCount(resultDF)\n",
    "        # spark.sql(\"select * from word_count_table\").show()\n",
    "        print(\"Done\")"
   ]
  }
 ],
 "metadata": {
  "application/vnd.databricks.v1+notebook": {
   "dashboards": [],
   "environmentMetadata": null,
   "language": "python",
   "notebookMetadata": {
    "pythonIndentUnit": 4
   },
   "notebookName": "01-batch-word-count",
   "widgets": {}
  }
 },
 "nbformat": 4,
 "nbformat_minor": 0
}
