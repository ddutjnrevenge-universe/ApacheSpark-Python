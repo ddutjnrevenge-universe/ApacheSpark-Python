{
 "cells": [
  {
   "cell_type": "code",
   "execution_count": 0,
   "metadata": {
    "application/vnd.databricks.v1+cell": {
     "cellMetadata": {
      "byteLimit": 2048000,
      "rowLimit": 10000
     },
     "inputWidgets": {},
     "nuid": "1ba02f85-9b51-4d39-991c-fdbd56335fd3",
     "showTitle": false,
     "title": ""
    }
   },
   "outputs": [],
   "source": [
    "class Bronze():\n",
    "    def __init__(self):\n",
    "        self.base_data_dir = \"/FileStore/data_spark_streaming\"\n",
    "        self.BOOTSTRAP_SERVER = \"localhost:9092\"\n",
    "\n",
    "    def getSchema(self):\n",
    "        return \"\"\"InvoiceNumber string, CreatedTime bigint, StoreID string, PosID string, CashierID string,\n",
    "                CustomerType string, CustomerCardNo string, TotalAmount double, NumberOfItems bigint, \n",
    "                PaymentMethod string, TaxableAmount double, CGST double, SGST double, CESS double, \n",
    "                DeliveryType string,\n",
    "                DeliveryAddress struct<AddressLine string, City string, ContactNumber string, PinCode string, \n",
    "                State string>,\n",
    "                InvoiceLineItems array<struct<ItemCode string, ItemDescription string, \n",
    "                    ItemPrice double, ItemQty bigint, TotalValue double>>\n",
    "            \"\"\"\n",
    "    def ingestFromKafka(self, startingTime =1):\n",
    "        return ( spark.readStream \n",
    "                    .format(\"kafka\")\n",
    "                .option(\"kafka.bootstrap.servers\", self.BOOTSTRAP_SERVER)\n",
    "                .option(\"subscribe\", \"invoices\")\n",
    "                .option(\"maxOffsetPerTrigger\", 10)\n",
    "                .option(\"startingTimestamp\", startingTime)\n",
    "                .load()\n",
    "        )\n",
    "    \n",
    "    def getInvoices(self, kafka_df):\n",
    "        from pyspark.sql.functions import from_json\n",
    "        return (kafka_df.select(kafka_df.key.cast(\"string\").alias(\"key\"),\n",
    "                                from_json(kafka_df.value.cast(\"string\"), self.getSchema()).alias(\"value\"),\n",
    "                                \"topic\", \"timestamp\")\n",
    "        )\n",
    "    \n",
    "    def process(self, startingTime=1):\n",
    "        print(f\"Starting Bronze Streaming Job...\", end=\"\")\n",
    "        rawDF = self.ingestFromKafka(startingTime)\n",
    "        invoicesDF = self.getInvoices(rawDF)\n",
    "        sQuery = ( invoicesDF.writeStream\n",
    "                            .queryName(\"bronze-ingestion\")\n",
    "                            .option(\"checkpointLocation\", f\"{self.base_data_dir}/checkpoint/invoices_bz\")\n",
    "                            .outputMode(\"append\")\n",
    "                            .toTable(\"invoices_bz\")\n",
    "                )\n",
    "        print(\"\\nDone\")\n",
    "        return sQuery"
   ]
  }
 ],
 "metadata": {
  "application/vnd.databricks.v1+notebook": {
   "dashboards": [],
   "environmentMetadata": null,
   "language": "python",
   "notebookMetadata": {
    "pythonIndentUnit": 4
   },
   "notebookName": "10-kafka-to-bronze",
   "widgets": {}
  }
 },
 "nbformat": 4,
 "nbformat_minor": 0
}
